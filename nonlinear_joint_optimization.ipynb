{
 "cells": [
  {
   "cell_type": "code",
   "execution_count": null,
   "metadata": {
    "code_folding": []
   },
   "outputs": [],
   "source": [
    "# imports\n",
    "import warnings\n",
    "warnings. filterwarnings('ignore')\n",
    "\n",
    "import numpy\n",
    "from qpsolvers import solve_qp\n",
    "from  qiskit.chemistry import FermionicOperator\n",
    "from qiskit.aqua.operators.legacy.op_converter import to_weighted_pauli_operator\n",
    "from qiskit.chemistry.components.variational_forms import UCCSD\n",
    "from qiskit.aqua.components.optimizers import L_BFGS_B\n",
    "from qiskit import Aer\n",
    "from qiskit.quantum_info import Pauli\n",
    "from qiskit.aqua.operators import WeightedPauliOperator\n",
    "from qiskit.aqua.operators.legacy import op_converter\n",
    "from qiskit.aqua.algorithms import VQE\n",
    "from qiskit.aqua import QuantumInstance\n",
    "from tqdm import tqdm\n",
    "from joblib import Parallel, delayed\n",
    "import itertools\n",
    "from qiskit import QuantumRegister, QuantumCircuit, execute, ClassicalRegister\n",
    "from qiskit.circuit.library import U3Gate\n",
    "from qiskit.aqua.components.initial_states import Custom\n",
    "from qiskit.chemistry.components.initial_states import HartreeFock\n",
    "import scipy\n",
    "import matplotlib.pyplot as plt\n",
    "from qiskit.quantum_info import partial_trace, Statevector"
   ]
  },
  {
   "cell_type": "code",
   "execution_count": null,
   "metadata": {
    "code_folding": [
     0
    ]
   },
   "outputs": [],
   "source": [
    "# 2 site Hubbard model parameters\n",
    "t = 1 #hopping factor\n",
    "U = 2 #coulomb repulsion factor\n",
    "mu = U/2 #chemical potential factor"
   ]
  },
  {
   "cell_type": "code",
   "execution_count": null,
   "metadata": {
    "code_folding": [
     0
    ]
   },
   "outputs": [],
   "source": [
    "# 2x1 Hubbard Hamiltonian\n",
    "def HubbardHamiltonian(U,t,num_spin_orbitals,num_particles):\n",
    "    h1=numpy.zeros((4,4))\n",
    "    h2=numpy.zeros((4,4,4,4))\n",
    "    num_sites=int(num_spin_orbitals // 2)\n",
    "    for i in range(num_sites - 1):\n",
    "        h1[i, i + 1] = h1[i + 1, i] = -t\n",
    "        h1[i + num_sites, i + 1 + num_sites] = h1[i + 1 + num_sites, i + num_sites] = -t\n",
    "        h1[i][i] = -mu\n",
    "        h1[i + num_sites][i + num_sites] = -mu\n",
    "    h1[num_sites - 1][num_sites - 1] = -mu\n",
    "    h1[2 * num_sites - 1][2 * num_sites - 1] = -mu    \n",
    "    h1[0, num_sites - 1] = h1[num_sites - 1, 0] = -t\n",
    "    h1[num_sites, 2 * num_sites - 1] = h1[2 * num_sites - 1, num_sites] = -t\n",
    "    for i in range(num_sites):\n",
    "        h2[i, i , i + num_sites, i + num_sites] = U\n",
    "    fermion_op = FermionicOperator(h1 = h1, h2 = h2) # Fermionic Hamiltonian\n",
    "    qubit_op = fermion_op.mapping('jordan_wigner') #Qubit Hamiltonian\n",
    "    return qubit_op"
   ]
  },
  {
   "cell_type": "code",
   "execution_count": null,
   "metadata": {
    "code_folding": [
     0
    ]
   },
   "outputs": [],
   "source": [
    "# construct the qubit operator rep. of the 2x1 Hubbard model and then the matrix representation\n",
    "qubit_H = HubbardHamiltonian(U = U, t = 1, num_spin_orbitals = 4, num_particles = 2)\n",
    "#constructing matrix rep. in the Fock space\n",
    "H_mat=op_converter.to_matrix_operator(qubit_H).dense_matrix"
   ]
  },
  {
   "cell_type": "code",
   "execution_count": null,
   "metadata": {
    "code_folding": []
   },
   "outputs": [],
   "source": [
    "# compute exact ground state energy and wavefunction through diagonalization\n",
    "w,v = numpy.linalg.eigh(H_mat)\n",
    "Eg = w[0]\n",
    "# print(\"ground state energy-\", w[0])\n",
    "state_g = v[:,0]\n",
    "# print(\"ground state wvfn.\", state_g)"
   ]
  },
  {
   "cell_type": "code",
   "execution_count": null,
   "metadata": {
    "code_folding": [
     0
    ]
   },
   "outputs": [],
   "source": [
    "def rotated_state(labels,params,state0):\n",
    "    U=WeightedPauliOperator([[1,Pauli.from_label('IIII')]])\n",
    "    for i in range(len(labels)):\n",
    "        U=WeightedPauliOperator([[numpy.cos(params[i]),Pauli.from_label('IIII')],[-1j*numpy.sin(params[i]),Pauli.from_label(labels[i])]]).multiply(U)\n",
    "        U_mat=op_converter.to_matrix_operator(U).dense_matrix\n",
    "        rot_state=numpy.dot(U_mat,state0) \n",
    "    return rot_state"
   ]
  },
  {
   "cell_type": "code",
   "execution_count": null,
   "metadata": {
    "code_folding": [
     0
    ]
   },
   "outputs": [],
   "source": [
    "def TimeEvolutionOperator(T):\n",
    "    return numpy.dot(numpy.dot(v,numpy.diag(numpy.exp(-1j*w*T))),numpy.conjugate(v.T))"
   ]
  },
  {
   "cell_type": "markdown",
   "metadata": {},
   "source": [
    "### $G_{1,2}^{\\uparrow,\\uparrow}(t>0)=\\langle G|e^{iHT}c_{1\\uparrow}(0)e^{-iHT}c^{\\dagger}_{2\\uparrow}(0)|G\\rangle$, $c^{\\dagger}_{2\\uparrow}(0)=IIXZ+iIIYZ$, <br>\n",
    "### $|\\mathcal{E}\\rangle = IIXZ|G\\rangle= e^{i\\frac{\\pi}{2}IIXZ}e^{i\\frac{2\\pi}{27}IZXY}e^{i\\frac{\\pi}{4}XYII}e^{i\\frac{\\pi}{4}IIXY}e^{-i\\frac{\\pi}{2}}|G\\rangle$, <br>\n",
    "\n",
    "### also constructing $IIIY|G\\rangle$ "
   ]
  },
  {
   "cell_type": "code",
   "execution_count": null,
   "metadata": {
    "code_folding": [
     0
    ]
   },
   "outputs": [],
   "source": [
    "# excited state 1 and 2\n",
    "\n",
    "exc_labels = ['IIII','IIXZ']\n",
    "exc_params = numpy.array([-numpy.pi/2,numpy.pi/2])\n",
    "exc_state = rotated_state(exc_labels,exc_params,state_g)\n",
    "\n",
    "exc_labels2 = ['IIII','IIIY']\n",
    "exc_params2 = [-numpy.pi/2,numpy.pi/2]\n",
    "exc_state2 = rotated_state(exc_labels2,exc_params2,state_g)\n",
    "exc_state2[numpy.abs(exc_state)<1e-5] = 0"
   ]
  },
  {
   "cell_type": "code",
   "execution_count": null,
   "metadata": {
    "code_folding": [
     0
    ]
   },
   "outputs": [],
   "source": [
    "# greens function evolution\n",
    "def greens_function(T, dT, T0):\n",
    "\n",
    "    steps = int((T-T0)/dT)\n",
    "    T_arr = numpy.linspace(T0, T, steps)\n",
    "    GF_exact = []\n",
    "    for i in tqdm(range(len(T_arr))):\n",
    "        U_T = TimeEvolutionOperator(T_arr[i])\n",
    "        exact_evolved_state = numpy.dot(U_T, exc_state)\n",
    "        G1 = numpy.exp(1j*(U-rho)/2.)*numpy.dot(numpy.conjugate(exc_state2), exact_evolved_state)\n",
    "        GF_exact.append(G1)\n",
    "    return GF_exact"
   ]
  },
  {
   "cell_type": "code",
   "execution_count": null,
   "metadata": {
    "code_folding": [
     0
    ]
   },
   "outputs": [],
   "source": [
    "# parameters for greens function\n",
    "T = 30\n",
    "dT = 0.1\n",
    "T0 = 0\n",
    "steps = int((T-T0)/dT)\n",
    "T_arr = numpy.linspace(T0,T,steps)\n",
    "rho = numpy.sqrt(U**2+16*t*t)\n",
    "G = greens_function(T,dT,T0)"
   ]
  },
  {
   "cell_type": "code",
   "execution_count": null,
   "metadata": {
    "code_folding": [
     0
    ]
   },
   "outputs": [],
   "source": [
    "# graphing greens function and spectral function\n",
    "# fig, ax = plt.subplots(1,2)\n",
    "# plt.rcParams[\"figure.figsize\"] = (40, 20)\n",
    "\n",
    "# ax[0].tick_params(labelsize=30)\n",
    "# ax[0].plot(T_arr, numpy.real(G), color='black')\n",
    "\n",
    "# \"\"\"SPECTRAL FUNCTION\"\"\"\n",
    "# # Number of sample points\n",
    "# # num_samp1=len(G)\n",
    "# # sample spacing\n",
    "# # ImgGf = numpy.fft.fft(numpy.imag(G))\n",
    "# # Tf1 = numpy.linspace(0, 40, num_samp1//2)\n",
    "# # ax[1].set_yscale('log')\n",
    "# # ax[1].tick_params(labelsize=20)\n",
    "# # ax[1].plot(Tf1, 2.0/num_samp1 * numpy.abs(ImgGf[:num_samp1//2])/numpy.pi, color='black', linestyle='-')\n",
    "# # ax[1].plot(-Tf1, 2.0/num_samp1 * numpy.abs(ImgGf[:num_samp1//2])/numpy.pi, color='black', linestyle='-')\n",
    "# # ax[1].plot(Tf1, 2.0/num_samp1 * numpy.abs(ImgGf[:num_samp1//2])/numpy.pi, color='black', linestyle='-')\n",
    "# # ax[1].plot(-Tf1, 2.0/num_samp1 * numpy.abs(ImgGf[:num_samp1//2])/numpy.pi, color='black', linestyle='-')\n",
    "# # ax[1].plot(T_arr,numpy.imag(G),linestyle='-')\n",
    "\n",
    "# plt.show()"
   ]
  },
  {
   "cell_type": "code",
   "execution_count": null,
   "metadata": {
    "code_folding": [
     0
    ]
   },
   "outputs": [],
   "source": [
    "# generators and angles for constructing adaptive ansatz for the 2x1 Hubbard model at U=2 t=1\n",
    "labels=['IIXY', 'XYII', 'IZXY']\n",
    "\n",
    "# U = 2\n",
    "params = [-0.7853980948120887, -0.7853983093282092, 0.23182381954801887]\n",
    "\n",
    "# U = 3\n",
    "# params = [0.7853959259806095,  0.7853996767775284, -1.2490064682759752]"
   ]
  },
  {
   "cell_type": "code",
   "execution_count": null,
   "metadata": {
    "code_folding": [
     0
    ],
    "scrolled": false
   },
   "outputs": [],
   "source": [
    "#circuit initialization\n",
    "init_circ = QuantumCircuit(2*2)\n",
    "init_circ.x(0)\n",
    "init_circ.x(2)\n",
    "init_state_circuit=Custom(4, circuit = init_circ)\n",
    "init_state = init_state_circuit #HartreeFock(num_spin_orbitals,num_particles=4,qubit_mapping='jordan_wigner',two_qubit_reduction=False)\n",
    "var_form_base = UCCSD(4,num_particles=2, initial_state=init_state,qubit_mapping='jordan_wigner',two_qubit_reduction=False)\n",
    "backend = Aer.get_backend('statevector_simulator')\n",
    "optimizer = L_BFGS_B()\n",
    "\n",
    "#adaptive circuit construction\n",
    "var_form_base.manage_hopping_operators()\n",
    "circ0 = var_form_base.construct_circuit(parameters = [])\n",
    "state0 = execute(circ0,backend).result().get_statevector()\n",
    "state0[numpy.abs(state0)<1e-5] = 0\n",
    "adapt_state = rotated_state(labels, params, state0)"
   ]
  },
  {
   "cell_type": "code",
   "execution_count": null,
   "metadata": {
    "code_folding": [
     0
    ]
   },
   "outputs": [],
   "source": [
    "# checking inner product between numerical and exact ground state\n",
    "print(\"overlap between analytic and numerical ground state is-\",numpy.dot(state_g,adapt_state))"
   ]
  },
  {
   "cell_type": "code",
   "execution_count": null,
   "metadata": {
    "code_folding": [
     0
    ]
   },
   "outputs": [],
   "source": [
    "# confirming exact energy\n",
    "\n",
    "# check expectation value of the Hamiltonian with respect to adaptive ansatz\n",
    "def expectation_op(Op,state):\n",
    "    return numpy.dot(numpy.dot(state,Op),numpy.conjugate(state))\n",
    "\n",
    "E_adapt = expectation_op(H_mat,adapt_state)\n",
    "\n",
    "# print(\"exact energy-\",Eg)\n",
    "# print(\"Energy from adaptive ansatz-\",E_adapt)\n",
    "# print(\"convergence error\", E_adapt-Eg)"
   ]
  },
  {
   "cell_type": "code",
   "execution_count": null,
   "metadata": {
    "code_folding": []
   },
   "outputs": [],
   "source": [
    "# including an excitation to the adaptive ansatz ground state"
   ]
  },
  {
   "cell_type": "code",
   "execution_count": null,
   "metadata": {
    "code_folding": []
   },
   "outputs": [],
   "source": [
    "# constructing the excited state ansatz\n",
    "exc_labels = ['IIII','IIXZ']\n",
    "exc_params = numpy.array([-numpy.pi/2,numpy.pi/2])\n",
    "exc_state = rotated_state(exc_labels,exc_params,adapt_state)\n",
    "exc_state[numpy.abs(exc_state)<1e-5] = 0"
   ]
  },
  {
   "cell_type": "code",
   "execution_count": null,
   "metadata": {
    "code_folding": [
     0
    ]
   },
   "outputs": [],
   "source": [
    "# exact excited state\n",
    "exact_exc_state=rotated_state(exc_labels,exc_params,state_g)\n",
    "#checking inner product between numerical and analytic state\n",
    "print(\"overlap between analytic and numerical exc. state is-\",numpy.dot(numpy.conjugate(exact_exc_state),exc_state))"
   ]
  },
  {
   "cell_type": "code",
   "execution_count": null,
   "metadata": {
    "code_folding": [
     0
    ]
   },
   "outputs": [],
   "source": [
    "def M(p,q,vqs_generators,vqs_params,ref_state):\n",
    "    thetas=numpy.array(vqs_params)\n",
    "    shift_1=numpy.array([0]*(p)+[numpy.pi/2]+[0]*(len(vqs_params)-p-1))\n",
    "    shift_2=numpy.array([0]*(q)+[numpy.pi/2]+[0]*(len(vqs_params)-q-1))\n",
    "    state_1=rotated_state(vqs_generators,vqs_params+shift_1,ref_state)\n",
    "    state_2=rotated_state(vqs_generators,vqs_params+shift_2,ref_state)\n",
    "    M_arr=numpy.real(numpy.dot(numpy.conjugate(state_1),state_2))\n",
    "    return M_arr"
   ]
  },
  {
   "cell_type": "code",
   "execution_count": null,
   "metadata": {
    "code_folding": [
     0
    ]
   },
   "outputs": [],
   "source": [
    "def V(p,vqs_generators,vqs_params,ref_state):\n",
    "    thetas=numpy.array(vqs_params)\n",
    "    shift_1=numpy.array([0]*(p)+[numpy.pi/2]+[0]*(len(vqs_params)-p-1))\n",
    "    state_1=rotated_state(vqs_generators,vqs_params+shift_1,ref_state)\n",
    "    state=rotated_state(vqs_generators,vqs_params,ref_state)\n",
    "    V_arr=numpy.imag(numpy.dot(numpy.dot(numpy.conjugate(state_1),H_mat),state))\n",
    "    return V_arr"
   ]
  },
  {
   "cell_type": "markdown",
   "metadata": {},
   "source": [
    "# Alex stuff"
   ]
  },
  {
   "cell_type": "code",
   "execution_count": null,
   "metadata": {
    "code_folding": [
     0,
     21
    ]
   },
   "outputs": [],
   "source": [
    "# basic setup\n",
    "import numpy as np\n",
    "import copy\n",
    "\n",
    "PAULI_X = np.array([[0,1],[1,0]], dtype='complex128')\n",
    "PAULI_Y = np.array([[0,-1j],[1j,0]], dtype='complex128')\n",
    "PAULI_Z = np.array([[1,0],[0,-1]], dtype='complex128')\n",
    "IDENTITY = np.eye(2, dtype='complex128')\n",
    "\n",
    "def pauli_string_to_matrix(pauli_string):\n",
    "    return Pauli(pauli_string).to_matrix()\n",
    "\n",
    "def pauli_string_exp_to_matrix(pauli_string, param):\n",
    "    return expm(-1j * param * Pauli(pauli_string).to_matrix())\n",
    "\n",
    "\n",
    "backend = Aer.get_backend('statevector_simulator')\n",
    "qasm_backend = Aer.get_backend('qasm_simulator')\n",
    "\n",
    "# circuit creation\n",
    "\n",
    "def rotate_state(pauli_string, param, circuit):\n",
    "    ancilla_boolean = (1 if circuit.num_qubits == 5 else 0)\n",
    "    if pauli_string == 'IIII':\n",
    "        gate = 1\n",
    "        for j in range(len(pauli_string)):\n",
    "            gate = np.kron(gate, IDENTITY)\n",
    "        gate *= -1j * np.sin(param)\n",
    "        gate += np.cos(param) * np.eye(16)\n",
    "        qubits_to_act_on = [1,2,3,4] if ancilla_boolean else [0,1,2,3]\n",
    "        circuit.unitary(gate, qubits_to_act_on, label=pauli_string)\n",
    "    else:\n",
    "        qubits_to_act_on = []\n",
    "        gate = 1\n",
    "        for j in range(len(pauli_string)):\n",
    "            if pauli_string[j] == 'X':\n",
    "                gate = np.kron(gate, PAULI_X)\n",
    "            elif pauli_string[j] == 'Y':\n",
    "                gate = np.kron(gate, PAULI_Y)\n",
    "            elif pauli_string[j] == 'Z':\n",
    "                gate = np.kron(gate, PAULI_Z)\n",
    "            if pauli_string[j] != 'I':\n",
    "                qubits_to_act_on.append(np.abs(j - 3) + (0,1)[ancilla_boolean])\n",
    "        gate *= (-1j * np.sin(param))\n",
    "        gate += np.cos(param) * np.eye(2**len(qubits_to_act_on))\n",
    "        qubits_to_act_on.reverse()\n",
    "        circuit.unitary(gate, qubits_to_act_on, label = pauli_string)\n",
    "        circuit.barrier()\n",
    "\n",
    "def create_initial_state():\n",
    "    circuit = QuantumCircuit(4)\n",
    "    circuit.x(0)\n",
    "    circuit.x(2)\n",
    "    circuit.barrier()\n",
    "    return circuit\n",
    "\n",
    "def create_adapt_ground_state():\n",
    "    labels = ['IIXY', 'XYII', 'IZXY']\n",
    "    params = [-0.7853980948120887, -0.7853983093282092, 0.23182381954801887]\n",
    "    circuit = create_initial_state()\n",
    "    for i in range(len(labels)):\n",
    "        rotate_state(labels[i], params[i], circuit)\n",
    "    return circuit\n",
    "\n",
    "def create_excited_state():\n",
    "    labels=['IIXY', 'XYII', 'IZXY', 'IIII', 'IIXZ']\n",
    "    params=[-0.7853980948120887, -0.7853983093282092, 0.23182381954801887,numpy.pi/2,-numpy.pi/2.] \n",
    "    circuit = create_initial_state()\n",
    "    for i in range(len(labels)):\n",
    "        rotate_state(labels[i], params[i], circuit)\n",
    "    circuit.barrier()\n",
    "    return circuit\n",
    "\n",
    "def create_excited_state2():\n",
    "    labels = ['IIXY', 'XYII', 'IZXY', 'IIII', 'IIIY']\n",
    "    params = [-0.7853980948120887, -0.7853983093282092, 0.23182381954801887, -numpy.pi/2, numpy.pi/2]\n",
    "    circuit = create_initial_state()\n",
    "    for i in range(len(labels)):\n",
    "        rotate_state(labels[i], params[i], circuit)\n",
    "    return circuit\n",
    "\n",
    "excited_state = execute(create_excited_state(), backend).result().get_statevector()\n",
    "excited_state2 = execute(create_excited_state2(), backend).result().get_statevector()"
   ]
  },
  {
   "cell_type": "code",
   "execution_count": null,
   "metadata": {
    "code_folding": []
   },
   "outputs": [],
   "source": [
    "def create_circuit_ancilla(state, excitations, nonlinear):\n",
    "    circuit = QuantumCircuit(5)\n",
    "    circuit.x(1)\n",
    "    circuit.x(3)\n",
    "    labels = ['IIXY', 'XYII', 'IZXY']\n",
    "    params = [-0.7853980948120887, -0.7853983093282092, 0.23182381954801887]\n",
    "    # this creates|G>\n",
    "    \n",
    "    # if state == 2, use first_excitation\n",
    "    if state == 'exc_state':\n",
    "        labels.extend(excitations[0])\n",
    "        params.extend([numpy.pi/2,-numpy.pi/2.])\n",
    "    \n",
    "    if nonlinear['bool']:\n",
    "        labels.extend(nonlinear['generators'])\n",
    "        params.extend(nonlinear['params'])\n",
    "        if state == 'exc_state':\n",
    "            labels.extend(excitations[1])\n",
    "            params.extend([numpy.pi/2,-numpy.pi/2.])\n",
    "    \n",
    "    #applies gates\n",
    "    for i in range(len(labels)):\n",
    "        rotate_state(labels[i], params[i], circuit)   \n",
    "\n",
    "    circuit.barrier()\n",
    "    return circuit"
   ]
  },
  {
   "cell_type": "code",
   "execution_count": null,
   "metadata": {
    "code_folding": [
     0
    ]
   },
   "outputs": [],
   "source": [
    "def controlled_rotate_state(pauli_string, param, circuit):\n",
    "    if pauli_string == 'IIII':\n",
    "        return\n",
    "    num_qubits = 4 #the ancilla does not count\n",
    "    qubits_to_act_on = []\n",
    "    gate = 1\n",
    "    for j in range(len(pauli_string)):\n",
    "        if pauli_string[j] == 'X':\n",
    "            gate = np.kron(gate, PAULI_X)\n",
    "        elif pauli_string[j] == 'Y':\n",
    "            gate = np.kron(gate, PAULI_Y)\n",
    "        elif pauli_string[j] == 'Z':\n",
    "            gate = np.kron(gate, PAULI_Z)\n",
    "        if pauli_string[j] != 'I':\n",
    "            qubits_to_act_on.append(np.abs(j - num_qubits + 1) + 1)\n",
    "    qubits_to_act_on.reverse()\n",
    "\n",
    "    #convert unitary to gate through a temporary circuit\n",
    "    temp_circuit = QuantumCircuit(2)\n",
    "    temp_circuit.unitary(gate, [0, 1]) #we only have controlled 2-qubit unitaries: IIXX, XXII, IIYY, YYII, ZIZI, IZIZ\n",
    "    controlled_gate = temp_circuit.to_gate(label = 'Controlled ' + pauli_string).control(1)\n",
    "    qubits_to_act_on.insert(0, 0) #insert ancilla bit to front of list\n",
    "    circuit.append(controlled_gate, qubits_to_act_on)"
   ]
  },
  {
   "cell_type": "code",
   "execution_count": null,
   "metadata": {
    "code_folding": [
     0,
     12
    ]
   },
   "outputs": [],
   "source": [
    "def measure_ancilla(circuit, shots):\n",
    "    classical_register = ClassicalRegister(1, 'classical_reg')\n",
    "    circuit.add_register(classical_register)\n",
    "    circuit.measure(0, classical_register[0])\n",
    "\n",
    "    result = execute(circuit, qasm_backend, shots = shots).result() \n",
    "    counts = result.get_counts(circuit)\n",
    "    if counts.get('0') != None:\n",
    "        return 2 * (result.get_counts(circuit)['0'] / shots) - 1\n",
    "    else:\n",
    "        return -1\n",
    "\n",
    "def measure_ancilla_statevector(circuit):\n",
    "    full_statevector = Statevector(circuit)\n",
    "    partial_density_matrix = partial_trace(full_statevector, [1, 2, 3, 4])\n",
    "    partial_statevector = np.diagonal(partial_density_matrix)\n",
    "    return ((2 * partial_statevector[0]) - 1).real    "
   ]
  },
  {
   "cell_type": "code",
   "execution_count": null,
   "metadata": {
    "code_folding": [
     59,
     83
    ]
   },
   "outputs": [],
   "source": [
    "def calculate_m_statevector(p, q, vqs_generators, vqs_params, state, excitations, nonlinear):\n",
    "    \n",
    "    # for the ground state, creates either |G> or e^{iHT}|G>\n",
    "    # for the excited state, creates either P_1|G> or e^{iHT}P_1|G>\n",
    "    circuit = create_circuit_ancilla(state, excitations, nonlinear)\n",
    "\n",
    "    circuit.h(0)\n",
    "    circuit.x(0)\n",
    "    circuit.barrier()\n",
    "    \n",
    "    for i in range(0, p):\n",
    "        rotate_state(vqs_generators[i], vqs_params[i], circuit)\n",
    "    circuit.barrier()\n",
    "\n",
    "    controlled_rotate_state(vqs_generators[p], vqs_params[p], circuit)\n",
    "    circuit.barrier()\n",
    "\n",
    "    for i in range(p, q):\n",
    "        rotate_state(vqs_generators[i], vqs_params[i], circuit)\n",
    "    circuit.barrier()\n",
    "\n",
    "    circuit.x(0)\n",
    "    controlled_rotate_state(vqs_generators[q], vqs_params[q], circuit)\n",
    "    circuit.h(0)\n",
    "    circuit.barrier()\n",
    "    return measure_ancilla_statevector(circuit)\n",
    "\n",
    "def calculate_v_statevector(p, vqs_generators, vqs_params, state, excitations, nonlinear):\n",
    "    n_theta = len(vqs_params)    \n",
    "    circuit = create_circuit_ancilla(state, excitations, nonlinear)\n",
    "\n",
    "    circuit.h(0)\n",
    "    circuit.x(0)\n",
    "    \n",
    "    for i in range(0, p):\n",
    "        rotate_state(vqs_generators[i], vqs_params[i], circuit)\n",
    "    circuit.barrier()\n",
    "\n",
    "    controlled_rotate_state(vqs_generators[p], vqs_params[p], circuit)\n",
    "    circuit.barrier()\n",
    "\n",
    "    for i in range(p, n_theta):\n",
    "        rotate_state(vqs_generators[i], vqs_params[i], circuit)\n",
    "    circuit.barrier()\n",
    "\n",
    "    circuit.x(0)\n",
    "\n",
    "    coeffs = [0.5, 0.5, -0.5, -0.5, -0.5, -0.5, -1.0]\n",
    "    measurements = []\n",
    "    for i in range(len(coeffs)):\n",
    "        single_h_circuit = copy.deepcopy(circuit)\n",
    "        controlled_rotate_state(vqs_generators[i], coeffs[i], single_h_circuit)\n",
    "        single_h_circuit.h(0)\n",
    "        measurements.append(measure_ancilla_statevector(single_h_circuit))\n",
    "    results = 0\n",
    "    for i in range(len(coeffs)):\n",
    "        results += measurements[i] * coeffs[i]\n",
    "    return results\n",
    "\n",
    "def calculate_m_shots(p, q, vqs_generators, vqs_params, shots, state, nonlinear):\n",
    "    circuit = create_circuit_ancilla(state, nonlinear) #Creates |E>\n",
    "\n",
    "    circuit.h(0)\n",
    "    circuit.x(0)\n",
    "    circuit.barrier()\n",
    "    \n",
    "    for i in range(0, p):\n",
    "        rotate_state(vqs_generators[i], vqs_params[i], circuit)\n",
    "    circuit.barrier()\n",
    "\n",
    "    controlled_rotate_state(vqs_generators[p], vqs_params[p], circuit)\n",
    "    circuit.barrier()\n",
    "\n",
    "    for i in range(p, q):\n",
    "        rotate_state(vqs_generators[i], vqs_params[i], circuit)\n",
    "    circuit.barrier()\n",
    "\n",
    "    circuit.x(0)\n",
    "    controlled_rotate_state(vqs_generators[q], vqs_params[q], circuit)\n",
    "    circuit.h(0)\n",
    "    circuit.barrier()\n",
    "    return measure_ancilla(circuit, shots)\n",
    "\n",
    "def calculate_v_shots(p, vqs_generators, vqs_params, shots, state, nonlinear):\n",
    "    n_theta = len(vqs_params)    \n",
    "    circuit = create_circuit_ancilla(state, nonlinear)\n",
    "\n",
    "    circuit.h(0)\n",
    "    circuit.x(0)\n",
    "    \n",
    "    for i in range(0, p):\n",
    "        rotate_state(vqs_generators[i], vqs_params[i], circuit)\n",
    "    circuit.barrier()\n",
    "\n",
    "    controlled_rotate_state(vqs_generators[p], vqs_params[p], circuit)\n",
    "    circuit.barrier()\n",
    "\n",
    "    for i in range(p, n_theta):\n",
    "        rotate_state(vqs_generators[i], vqs_params[i], circuit)\n",
    "    circuit.barrier()\n",
    "\n",
    "    circuit.x(0)\n",
    "\n",
    "    coeffs = [0.5, 0.5, -0.5, -0.5, -0.5, -0.5, -1.0]\n",
    "    measurements = []\n",
    "    for i in range(len(coeffs)):\n",
    "        single_h_circuit = copy.deepcopy(circuit)\n",
    "        controlled_rotate_state(vqs_generators[i], coeffs[i], single_h_circuit)\n",
    "        single_h_circuit.h(0)\n",
    "        measurements.append(measure_ancilla(single_h_circuit, shots))\n",
    "    results = 0\n",
    "    for i in range(len(coeffs)):\n",
    "        results += measurements[i] * coeffs[i]\n",
    "    return results"
   ]
  },
  {
   "cell_type": "code",
   "execution_count": null,
   "metadata": {
    "code_folding": [
     0,
     11
    ]
   },
   "outputs": [],
   "source": [
    "def Cost(M,V):\n",
    "    #f=1/2x^TPx+q^{T}x\n",
    "    #Gx<=h\n",
    "    #Ax=b\n",
    "#     alpha = 0\n",
    "#     alpha=1e-3\n",
    "    P=M.T@M+alpha*numpy.eye(len(V))\n",
    "    q=M.T@V\n",
    "    thetaDot=solve_qp(P,-q)\n",
    "    return thetaDot\n",
    "\n",
    "def McEvolve(vqs_params_init,T,dT,T0,exc_state, way):\n",
    "    steps=int((T-T0)/dT)\n",
    "    T_arr=numpy.linspace(T0,T,steps)\n",
    "    vqs_params=vqs_params_init\n",
    "    vqs_dot_hist=[]\n",
    "    vqs_hist=[vqs_params]\n",
    "    FidelityArr=[]\n",
    "    GF_exact=[]\n",
    "    GF_sim=[]\n",
    "    U = 2\n",
    "    for i in tqdm(range(len(T_arr))):\n",
    "        \n",
    "        #evaluations at time step t_i\n",
    "        U_T=TimeEvolutionOperator(T_arr[i])\n",
    "        \n",
    "        #exact state\n",
    "        exact_evolved_state=numpy.dot(U_T,exc_state)\n",
    "        vqs_state=rotated_state(vqs_generators,vqs_hist[-1], exc_state)\n",
    "\n",
    "        G1=np.exp(1j*(U-rho)/2)*numpy.dot(np.conj(exc_state2), exact_evolved_state).real\n",
    "        GF_exact.append(G1)\n",
    "        G2=np.exp(1j*(U-rho)/2)*numpy.dot(np.conj(exc_state2), vqs_state).real\n",
    "        GF_sim.append(G2)\n",
    "#         print(\"Green functions\",G1,G2)\n",
    "   \n",
    "        FidelityArr.append(numpy.abs(numpy.dot(vqs_state,numpy.conjugate(exact_evolved_state)))**2)\n",
    "        print(\"Fidelity\",FidelityArr[-1])    \n",
    "        \n",
    "        arr = [(j,k) for j in range(len(vqs_params)) for k in range(len(vqs_params)) if j<=k]\n",
    "        M_mat = numpy.zeros((len(vqs_params),len(vqs_params)))\n",
    "\n",
    "        #constructing McLachlan\n",
    "        if way == 'Anirban':\n",
    "            M_elems = Parallel(n_jobs=-1,verbose=0)(delayed(M)(arr[i][0],arr[i][1],vqs_params,exc_state) for i in range(len(arr)))\n",
    "            V_vec=numpy.array([V(p,vqs_params,exc_state) for p in range(len(vqs_params))])\n",
    "        \n",
    "        # Statevector way\n",
    "        elif way == 'statevector':\n",
    "            M_elems = Parallel(n_jobs=-1)(delayed(calculate_m_statevector)(arr[i][0], arr[i][1], vqs_generators, vqs_params, 'state2') for i in range(len(arr)))       \n",
    "            V_vec = Parallel(n_jobs=-1)(delayed(calculate_v_statevector)(p, vqs_generators, vqs_params, 'state2') for p in range(len(vqs_params)))\n",
    "        \n",
    "        # Shots way\n",
    "        elif way == 'shots':\n",
    "            shots = 2**15\n",
    "            M_elems = Parallel(n_jobs=-1)(delayed(calculate_m_shots)(arr[i][0], arr[i][1], vqs_generators, vqs_params, shots, 'state2') for i in range(len(arr)))       \n",
    "            V_vec = Parallel(n_jobs=-1)(delayed(calculate_v_shots)(p, vqs_generators, vqs_params, shots, 'state2') for p in range(len(vqs_params)))\n",
    "\n",
    "        for p in range(len(arr)):\n",
    "            M_mat[arr[p][0]][arr[p][1]] = M_mat[arr[p][1]][arr[p][0]] = M_elems[p]\n",
    "            \n",
    "        vqs_params_dot=Cost(M_mat,V_vec)#numpy.linalg.lstsq(M_mat,V_vec,rcond=None)[0]\n",
    "        vqs_dot_hist.append(vqs_params_dot)\n",
    "        \n",
    "        \n",
    "#         def Error(vqs_params_dot):\n",
    "#             quant=numpy.sum((M_mat@vqs_params_dot-V_vec)@(M_mat@vqs_params_dot-V_vec).T)\n",
    "#             print(quant)\n",
    "#             return quant\n",
    "#         error=Error(vqs_params_dot)\n",
    "#         print(\"Initial Error after least squares-\", error)\n",
    "        \n",
    "        #Euler\n",
    "        #vqs_params=vqs_params+vqs_dot_hist[-1]*dT\n",
    "        #Adams-Bashforth\n",
    "    \n",
    "        if i>0:\n",
    "            vqs_params=vqs_params+1.5*dT*vqs_dot_hist[-1]-0.5*dT*vqs_dot_hist[-2]\n",
    "        else:\n",
    "            vqs_params=vqs_params+vqs_dot_hist[-1]*dT \n",
    "        vqs_hist.append(vqs_params)\n",
    "    \n",
    "    return vqs_hist,FidelityArr,GF_sim,GF_exact    "
   ]
  },
  {
   "cell_type": "code",
   "execution_count": null,
   "metadata": {
    "code_folding": [
     0
    ],
    "scrolled": true
   },
   "outputs": [],
   "source": [
    "# Single optimization\n",
    "T=5\n",
    "dT=0.1\n",
    "\n",
    "nd=2\n",
    "vqs_generators=['ZIZI','IZIZ','IIXX','IIYY','XXII','YYII','IIII']*nd\n",
    "vqs_params=numpy.zeros(len(vqs_generators))\n",
    "\n",
    "# vqs_params_history,FidelityArr,GF_sim,GF_exact=McEvolve(vqs_params,T,dT,0,exc_state, 'statevector')"
   ]
  },
  {
   "cell_type": "code",
   "execution_count": null,
   "metadata": {
    "code_folding": [
     0
    ]
   },
   "outputs": [],
   "source": [
    "# fig, ax = plt.subplots(dpi=160)\n",
    "# ax.set_title('t=30, dt=0.1, U=2')\n",
    "# T_arr\n",
    "# ax.plot(GF_sim, label = 'VQS - statevector', color = 'blue')\n",
    "# ax.plot(GF_exact, label = 'Exact', color = 'red')\n",
    "# plt.legend()\n",
    "# plt.show()"
   ]
  },
  {
   "cell_type": "code",
   "execution_count": null,
   "metadata": {
    "code_folding": [
     0
    ]
   },
   "outputs": [],
   "source": [
    "# # Spectral function plot\n",
    "# G_sim = GF_sim\n",
    "# G_exact = GF_exact\n",
    "# # Number of sample points\n",
    "# num_samp=len(G_sim)\n",
    "# # sample spacing\n",
    "# ImgG_1f = numpy.fft.fft(numpy.real(G_sim))\n",
    "# ImgG_2f = numpy.fft.fft(numpy.real(G_exact))\n",
    "# plt.rcParams[\"figure.figsize\"] = (20,10)\n",
    "# Tf = numpy.linspace(0.0, 1//(2.0*dT), num_samp//2)\n",
    "# fig, ax = plt.subplots()\n",
    "# ax.set_xlabel(r'$\\omega$',fontsize=20)\n",
    "# ax.tick_params(labelsize=20)\n",
    "# ax.set_yscale('log')\n",
    "# ax.plot(Tf, 2.0/num_samp * numpy.abs(ImgG_1f[:num_samp//2])/numpy.pi,marker='s',color='b',linestyle='',label=r'$Im G_{VHS - statevector}^{1,2}(1,2,\\omega)$')\n",
    "# ax.plot(-Tf, 2.0/num_samp * numpy.abs(ImgG_1f[:num_samp//2])/numpy.pi,marker='s',color='b',linestyle='')\n",
    "# ax.plot(Tf, 2.0/num_samp * numpy.abs(ImgG_2f[:num_samp//2])/numpy.pi,color='r',linestyle='-',label=r'$Im G_{exact}^{1,2}(1,2,\\omega)$')\n",
    "# ax.plot(-Tf, 2.0/num_samp * numpy.abs(ImgG_2f[:num_samp//2])/numpy.pi,color='r',linestyle='-')\n",
    "# plt.legend(fontsize=15)\n",
    "# plt.show()"
   ]
  },
  {
   "cell_type": "markdown",
   "metadata": {},
   "source": [
    "Find  a circuit rep of U(theta) such that\n",
    "$U(\\theta)|G\\rangle \\approx e^{-iHT}|G\\rangle$ and $U(\\theta)|E\\rangle \\approx e^{-iHT}|E\\rangle$.<br>\n",
    "$U(\\theta)|G\\rangle \\approx e^{-iHT}|G\\rangle\\to M_{1}\\dot{\\theta}=V_{1}$, $U(\\theta)|G\\rangle \\approx e^{-iHT}|E\\rangle\\to M_{2}\\dot{\\theta}=V_{2}$<br>\n",
    "Map this to a quadratic optimization problem<br>\n",
    "$(\\dot{\\boldsymbol{\\theta}}^{T}M_{1}^{T}-V_{1}^{T})(M_{1}\\dot{\\boldsymbol{\\theta}}-V_{1})=\\dot{\\boldsymbol{\\theta}}^{T}M_{1}^{T}M_{1}\\dot{\\boldsymbol{\\theta}}-\\dot{\\boldsymbol{\\theta}}^{T}M_{1}^{T}V_{1}-V^{T}_{1}M_{1}\\dot{\\boldsymbol{\\theta}}+V_{1}^{T}V_{1}\\propto \\frac{1}{2}\\dot{\\boldsymbol{\\theta}}^{T}M_{1}^{T}M_{1}\\dot{\\boldsymbol{\\theta}}-(M_{1}^{T}V_{1})^{T}\\dot{\\boldsymbol{\\theta}}$<br>\n",
    "$(\\dot{\\boldsymbol{\\theta}}^{T}M_{1}^{T}-V_{1}^{T})(M_{1}\\dot{\\boldsymbol{\\theta}}-V_{1})+(\\dot{\\boldsymbol{\\theta}}^{T}M_{2}^{T}-V_{2}^{T})(M_{2}\\dot{\\boldsymbol{\\theta}}-V_{2})\\propto\\frac{1}{2}\\dot{\\boldsymbol{\\theta}}^{T}(M_{1}^{T}M_{1}+M_{2}^{T}M_{2})\\dot{\\boldsymbol{\\theta}}-\\left[(M_{1}^{T}V_{1})^{T}+(M_{2}^{T}V_{2})^{T}\\right]\\dot{\\boldsymbol{\\theta}}$<br>\n",
    "Cost Function<br>\n",
    "$Cost=\\frac{1}{2}\\dot{\\boldsymbol{\\theta}}^{T}(M_{1}^{T}M_{1}+M_{2}^{T}M_{2})\\dot{\\boldsymbol{\\theta}}-\\left[(M_{1}^{T}V_{1})^{T}+(M_{2}^{T}V_{2})^{T}\\right]\\dot{\\boldsymbol{\\theta}}$\n",
    "<br>\n",
    "$P=(M_{1}^{T}M_{1}+M_{2}^{T}M_{2})+\\alpha$, $\\alpha= $Tikhonov Regularization<br>\n",
    "$q=M^{T}V$<br>\n",
    "$f=1/2x^TPx+q^{T}x$, $x=\\dot{\\theta}$"
   ]
  },
  {
   "cell_type": "code",
   "execution_count": null,
   "metadata": {},
   "outputs": [],
   "source": [
    "def seq(start, stop, step):\n",
    "    n = int(round((stop - start)/float(step)))\n",
    "    return np.array([np.around(start + step*i,3) for i in range(n+1)])"
   ]
  },
  {
   "cell_type": "code",
   "execution_count": null,
   "metadata": {},
   "outputs": [],
   "source": [
    "def percent_error(a,e):\n",
    "    return str((np.abs((a-e)/e))*100) + '%'"
   ]
  },
  {
   "cell_type": "code",
   "execution_count": null,
   "metadata": {
    "code_folding": [
     0,
     49
    ]
   },
   "outputs": [],
   "source": [
    "def JointCost(M1, V1, M2, V2):\n",
    "    #f=1/2 {x^T} Px + q^{T}x\n",
    "    #Gx<=h\n",
    "    #Ax=b\n",
    "    alpha = 1e-3\n",
    "    P = M1.T@M1 + M2.T@M2 + alpha * np.eye(len(V1))\n",
    "    q = M1.T@V1 + M2.T@V2\n",
    "#     thetaDot = numpy.linalg.lstsq(P, -q, rcond=None)[0]\n",
    "    thetaDot = solve_qp(P, -q)\n",
    "    return thetaDot\n",
    "\n",
    "def McEvolveJointOptimization(vqs_generators, vqs_params_init, T, dT, T0, state1, state2, method, excitations, nonlinear):\n",
    "    T_arr = seq(T0, T, dT)\n",
    "    vqs_params = vqs_params_init\n",
    "    vqs_dot_hist = []\n",
    "    vqs_hist = [vqs_params]\n",
    "    FidelityArr = []\n",
    "    \n",
    "    global T1_params\n",
    "    if not nonlinear['bool']:\n",
    "        T1_params[0].append(vqs_params_init)\n",
    "            \n",
    "    for i in range(len(T_arr)):\n",
    "        \n",
    "        if (T_arr[i] != T and not nonlinear['bool']) or (nonlinear['bool']):\n",
    "\n",
    "            U_T = TimeEvolutionOperator(T_arr[i] - T_arr[0])\n",
    "            exact_evolved_state1 = U_T@state1 # ground state           \n",
    "            exact_evolved_state2 = U_T@state2 # excited state\n",
    "  \n",
    "            vqs_state1 = rotated_state(vqs_generators,vqs_hist[-1], state1)\n",
    "            vqs_state2 = rotated_state(vqs_generators,vqs_hist[-1], state2)\n",
    "  \n",
    "            FidelityArr.append([numpy.abs(vqs_state1@numpy.conjugate(exact_evolved_state1))**2,numpy.abs(vqs_state2@numpy.conjugate(exact_evolved_state2))**2])\n",
    "            print(\"Time: \", np.around(T_arr[i],2), \" | Fidelity: \", FidelityArr[-1])    \n",
    "\n",
    "            if (not nonlinear['bool']) or (nonlinear['bool'] and T_arr[i] != T):\n",
    "                #constructing McLachlan\n",
    "                arr = [(j,k) for j in range(len(vqs_params)) for k in range(len(vqs_params)) if j <= k]\n",
    "                M1 = numpy.zeros((len(vqs_params),len(vqs_params)))\n",
    "                M2 = numpy.zeros((len(vqs_params),len(vqs_params)))\n",
    "\n",
    "                # Statevector way\n",
    "                if method == 'statevector':\n",
    "                    M_elems1 = Parallel(n_jobs=-1)(delayed(calculate_m_statevector)(arr[q][0], arr[q][1], vqs_generators, vqs_params, 'state_g', excitations, nonlinear) for q in range(len(arr)))       \n",
    "                    M_elems2 = Parallel(n_jobs=-1)(delayed(calculate_m_statevector)(arr[q][0], arr[q][1], vqs_generators, vqs_params, 'exc_state', excitations, nonlinear) for q in range(len(arr)))       \n",
    "                    V1 = Parallel(n_jobs=-1)(delayed(calculate_v_statevector)(p, vqs_generators, vqs_params, 'state_g', excitations, nonlinear) for p in range(len(vqs_params)))\n",
    "                    V2 = Parallel(n_jobs=-1)(delayed(calculate_v_statevector)(p, vqs_generators, vqs_params, 'exc_state', excitations, nonlinear) for p in range(len(vqs_params)))\n",
    "\n",
    "                # Shots way\n",
    "                elif method == 'shots':\n",
    "                    shots = 2**14\n",
    "                    M_elems1 = Parallel(n_jobs=-1)(delayed(calculate_m_shots)(arr[i][0], arr[i][1], vqs_generators, vqs_params, shots, 'state1', nonlinear) for i in range(len(arr)))       \n",
    "                    M_elems2 = Parallel(n_jobs=-1)(delayed(calculate_m_shots)(arr[i][0], arr[i][1], vqs_generators, vqs_params, shots, 'state2', nonlinear) for i in range(len(arr)))       \n",
    "                    V1 = Parallel(n_jobs=-1)(delayed(calculate_v_shots)(p, vqs_generators, vqs_params, shots, 'state1', nonlinear) for p in range(len(vqs_params)))\n",
    "                    V2 = Parallel(n_jobs=-1)(delayed(calculate_v_shots)(p, vqs_generators, vqs_params, shots, 'state2', nonlinear) for p in range(len(vqs_params)))\n",
    "\n",
    "                for p in range(len(arr)):\n",
    "                    M1[arr[p][0]][arr[p][1]] = M1[arr[p][1]][arr[p][0]] = M_elems1[p]\n",
    "                    M2[arr[p][0]][arr[p][1]] = M2[arr[p][1]][arr[p][0]] = M_elems2[p]\n",
    "\n",
    "                vqs_params_dot = JointCost(M1, V1, M2, V2)        \n",
    "                vqs_dot_hist.append(vqs_params_dot)\n",
    "\n",
    "                if i == 0:\n",
    "                    vqs_params = vqs_params + vqs_dot_hist[-1]*dT \n",
    "                else:\n",
    "                    vqs_params = vqs_params + (3/2)*dT*vqs_dot_hist[-1]-(1/2)*dT*vqs_dot_hist[-2]\n",
    "\n",
    "                vqs_hist.append(vqs_params)\n",
    "                if not nonlinear['bool']:\n",
    "                    T1_params[0].append(vqs_params)\n",
    "                else:\n",
    "                    T1_params[1].append(vqs_params)\n",
    "\n",
    "                np.set_printoptions(precision=4, suppress=True)\n",
    "                # add third excitation if we are optimizing nonlinearly\n",
    "                if nonlinear['bool']:\n",
    "                    global single_percent_error\n",
    "                    evolved_params2 = vqs_hist[-1]\n",
    "                    vqs_state_g = rotated_state(vqs_generators, evolved_params2, state1)\n",
    "                    vqs_exc_state = rotated_state(vqs_generators, evolved_params2, state2)  \n",
    "                    \n",
    "                    exact_state_g = exact_states(T_arr[0],T_arr[i+1] - T_arr[0])[0]\n",
    "                    exact_exc_state = exact_states(T_arr[0],T_arr[i+1] - T_arr[0])[1]\n",
    "\n",
    "                    vqs_G_term = vqs_state_g.conj()@vqs_exc_state\n",
    "                    exact_G_term = exact_state_g.conj()@exact_exc_state\n",
    "                    print()\n",
    "                    print('Ground state inner product: ', vqs_state_g.conj()@exact_state_g)\n",
    "                    print('Excited state inner product: ', vqs_exc_state.conj()@exact_exc_state)\n",
    "                    \n",
    "                    vqs_G_term = 0 #G_term sums over the P3 excitations\n",
    "                    exact_G_term = 0\n",
    "                    \n",
    "                    for j in range(len(P3_arr)):\n",
    "                        new_exc_labels = [P3_arr[j]]\n",
    "                        new_exc_params = numpy.array([numpy.pi/2])\n",
    "                        vqs_exc_state_p3 = rotated_state(new_exc_labels, new_exc_params, vqs_exc_state)\n",
    "                        vqs_G_term += (coeffs[j] * vqs_state_g.conj()@vqs_exc_state_p3)\n",
    "\n",
    "                        exact_exc_state_p3 = rotated_state(new_exc_labels, new_exc_params, exact_exc_state)\n",
    "                        exact_G_term += (coeffs[j] * exact_state_g.conj()@exact_exc_state_p3)\n",
    "                        \n",
    "                    \n",
    "                    print('G percent error for ', T_arr[0], np.around(T_arr[i+1] - T_arr[0],2), ' : ', percent_error(vqs_G_term*4, exact_G_term*4))\n",
    "                    single_percent_error.append(np.abs((vqs_G_term*4-exact_G_term*4)/(exact_G_term*4))*100)\n",
    "    #                 global G\n",
    "    #                 G.append(G_term * 4) #there are 4 G_to append, but they are the same so we multiply by 4\n",
    "\n",
    "                \n",
    "    return vqs_hist,FidelityArr   "
   ]
  },
  {
   "cell_type": "markdown",
   "metadata": {},
   "source": [
    "# Non-linear Joint Optimization"
   ]
  },
  {
   "cell_type": "code",
   "execution_count": null,
   "metadata": {
    "code_folding": [
     0
    ]
   },
   "outputs": [],
   "source": [
    "def NLJointOptimization(T0, T1, T2, alpha, depth, shots, excitations):\n",
    "    \n",
    "    #  first excitation \n",
    "    exc_labels = excitations[0]\n",
    "    exc_params = numpy.array([-numpy.pi/2,numpy.pi/2])\n",
    "    exc_state = rotated_state(exc_labels,exc_params,state_g)\n",
    "\n",
    "    # first evolution\n",
    "    vqs_generators = ['ZIZI','IZIZ','IIXX','IIYY','XXII','YYII','IIII'] * depth\n",
    "    vqs_params = numpy.zeros(len(vqs_generators))\n",
    "    nonlinear = {'bool' : False, 'generators': vqs_generators, 'params': vqs_params}\n",
    "    vqs_hist, FidelityArr = McEvolveJointOptimization(vqs_generators, vqs_params, T1, dT, T0, state_g, exc_state, 'statevector', excitations, nonlinear)\n",
    "    evolved_params = vqs_hist[-1]\n",
    "    vqs_state_g = rotated_state(vqs_generators,evolved_params,state_g)\n",
    "    vqs_exc_state = rotated_state(vqs_generators,evolved_params,exc_state)\n",
    "\n",
    "    # seocnd excitation (which only applies to the excited state)\n",
    "    exc_labels2 = excitations[1]\n",
    "    exc_params2 = numpy.array([-numpy.pi/2,numpy.pi/2])\n",
    "    vqs_exc_state = rotated_state(exc_labels2, exc_params2, vqs_exc_state)\n",
    "    \n",
    "    # second evolution\n",
    "    nonlinear = {'bool' : True, 'generators': vqs_generators, 'params': evolved_params}\n",
    "    vqs_hist2, FidelityArr2 = McEvolveJointOptimization(vqs_generators, vqs_params, T2, dT, T1, vqs_state_g, vqs_exc_state, 'statevector', excitations, nonlinear)\n",
    "    evolved_params2 = vqs_hist2[-1]\n",
    "    vqs_state_g = rotated_state(vqs_generators, evolved_params2, vqs_state_g)\n",
    "    vqs_exc_state = rotated_state(vqs_generators, evolved_params2, vqs_exc_state)  \n",
    "    \n",
    "    combined_fidelity = np.array(FidelityArr + FidelityArr2)\n",
    "\n",
    "    return combined_fidelity"
   ]
  },
  {
   "cell_type": "markdown",
   "metadata": {},
   "source": [
    "# Begin simulations"
   ]
  },
  {
   "cell_type": "code",
   "execution_count": null,
   "metadata": {
    "scrolled": true
   },
   "outputs": [],
   "source": [
    "excitation_pair = (['IIII', 'IXII'], ['IIII', 'IIIX'])\n",
    "P3_arr = ['XZXZ', 'YZXZ', 'XZYZ', 'YZYZ']\n",
    "coeffs = [1, 1j, 1j, -1]\n",
    "alpha = 0.001\n",
    "depth = 4\n",
    "vqs_generators = ['ZIZI','IZIZ','IIXX','IIYY','XXII','YYII','IIII'] * depth\n",
    "\n",
    "G = []\n",
    "T1 = 5\n",
    "tau = 5\n",
    "fidelities = []\n",
    "percent_errors = []\n",
    "depth = 4\n",
    "dT_list = [1/20, 1/30, 1/50]\n",
    "for dT in dT_list:\n",
    "    print(dT)\n",
    "    single_percent_error = []\n",
    "    T1_params = [[] for i in range(2)]\n",
    "    combined_fidelity = NLJointOptimization(0, T1, T1+tau, alpha, depth, None, excitation_pair)\n",
    "    percent_errors.append(np.mean(single_percent_error))\n",
    "    fidelities.append(combined_fidelity)"
   ]
  },
  {
   "cell_type": "code",
   "execution_count": null,
   "metadata": {},
   "outputs": [],
   "source": [
    "depth_list = [str(depth) for depth in depth_list]"
   ]
  },
  {
   "cell_type": "code",
   "execution_count": null,
   "metadata": {},
   "outputs": [],
   "source": [
    "dT_list = [1/20, 1/30, 1/50]\n",
    "dT_list = [np.around(dT,3) for dT in dT_list]\n",
    "dT_list = [str(dT) for dT in dT_list]"
   ]
  },
  {
   "cell_type": "code",
   "execution_count": null,
   "metadata": {},
   "outputs": [],
   "source": [
    "import matplotlib.pyplot as plt\n",
    "fig = plt.figure()\n",
    "ax = fig.add_axes([0,0,1,1])\n",
    "ax.set_title(\"T1=5, T2=5, depth=4\")\n",
    "ax.set_xlabel('dT')\n",
    "ax.set_ylabel('Average Percent Error')\n",
    "\n",
    "ax.bar(dT_list, percent_errors)\n",
    "plt.show()"
   ]
  },
  {
   "cell_type": "code",
   "execution_count": null,
   "metadata": {},
   "outputs": [],
   "source": [
    "# Excitation pair plot\n",
    "colors = plt.cm.cividis(np.linspace(0, 1, len(percent_errors)))\n",
    "colors = np.flip(colors, axis=0)\n",
    "fig, ax = plt.subplots(dpi=500)\n",
    "ax.set_xlabel('Time')\n",
    "ax.set_ylabel('Percent Error')\n",
    "ax.set_title(\"T1=1, T2=2, depth=4\")\n",
    "ax.bar(str(dT_list), percent_errors)\n",
    "\n",
    "for i in range(len(percent_errors)):\n",
    "    ax.plot(dT_list, percent_errors[i])\n",
    "# plt.legend(title=\"Excitation pair\")\n",
    "plt.show()"
   ]
  },
  {
   "cell_type": "code",
   "execution_count": null,
   "metadata": {
    "code_folding": [
     7
    ],
    "scrolled": true
   },
   "outputs": [],
   "source": [
    "G2 = []\n",
    "for tau in seq(0.1,T2-T1,0.1):\n",
    "    G2.append(GF(0.5,tau))\n",
    "\n",
    "if len(G) != len(G2):\n",
    "    del G[-1]\n",
    "\n",
    "for i in range(len(G)):\n",
    "    print(G2[i]-G[i])"
   ]
  },
  {
   "cell_type": "code",
   "execution_count": null,
   "metadata": {
    "code_folding": [
     0
    ]
   },
   "outputs": [],
   "source": [
    "# Excitation pair plot\n",
    "colors = plt.cm.cividis(np.linspace(0, 1, len(fidelities)))\n",
    "colors = np.flip(colors, axis=0)\n",
    "fig, ax = plt.subplots(dpi=500)\n",
    "ax.set_xlabel('Time')\n",
    "ax.set_ylabel('G_exact - G_statevector')\n",
    "ax.set_title(\"T1=0.5, T2=1.0, dT=0.1, depth=4\")\n",
    "# ax.set_ylim([0.9998,1])\n",
    "\n",
    "T_arr = seq(0.6,1.0,0.1)\n",
    "for i in range(len(fidelities)):\n",
    "    ax.plot(T_arr, np.array(G2)-np.array(G))\n",
    "# plt.legend(title=\"Excitation pair\")\n",
    "plt.show()"
   ]
  },
  {
   "cell_type": "code",
   "execution_count": null,
   "metadata": {},
   "outputs": [],
   "source": [
    "# Excitation pair plot\n",
    "colors = plt.cm.cividis(np.linspace(0, 1, len(fidelities)))\n",
    "colors = np.flip(colors, axis=0)\n",
    "fig, ax = plt.subplots(dpi=500)\n",
    "ax.set_xlabel('Time')\n",
    "ax.set_ylabel('G_exact - G_statevector')\n",
    "ax.set_title(\"T1=5, T2=10, dT=0.1, depth=4\")\n",
    "# ax.set_ylim([0.9998,1])\n",
    "\n",
    "T_arr = seq(5,9.9,0.1)\n",
    "for i in range(len(fidelities)):\n",
    "    ax.plot(T_arr, np.array(G2)-np.array(G))\n",
    "# plt.legend(title=\"Excitation pair\")\n",
    "plt.show()"
   ]
  },
  {
   "cell_type": "code",
   "execution_count": null,
   "metadata": {
    "code_folding": [
     0
    ],
    "scrolled": true
   },
   "outputs": [],
   "source": [
    "# Excitation pair plot\n",
    "colors = plt.cm.cividis(np.linspace(0, 1, len(fidelities)))\n",
    "colors = np.flip(colors, axis=0)\n",
    "fig, ax = plt.subplots(dpi=500)\n",
    "ax.set_xlabel('Time')\n",
    "ax.set_ylabel('Excited state fidelity')\n",
    "ax.set_title(\"T1=1, T2=2, dT=0.1, depth=4\")\n",
    "ax.set_ylim([0.9998,1])\n",
    "\n",
    "T_arr = seq(0,T2,dT)\n",
    "for i in range(len(fidelities)):\n",
    "    ax.plot(T_arr, np.mean(fidelities[i],axis=1), label=excitation_pairs[i], color=colors[i])\n",
    "plt.legend(title=\"Excitation pair\")\n",
    "plt.show()"
   ]
  },
  {
   "cell_type": "code",
   "execution_count": null,
   "metadata": {
    "code_folding": [
     0
    ],
    "scrolled": false
   },
   "outputs": [],
   "source": [
    "# grid params\n",
    "excitation_pair = (['IIII', 'IXII'], ['IIII', 'IIIX'])\n",
    "coeffs = [1, 1j, -1, 1j]\n",
    "P3_arr = ['XYII','XXII','YYII','YXII']\n",
    "alpha = 0.001\n",
    "depth = 2\n",
    "vqs_generators = ['ZIZI','IZIZ','IIXX','IIYY','XXII','YYII','IIII'] * depth\n",
    "\n",
    "grid_params = []\n",
    "T1_list = seq(0.1,5,0.1)\n",
    "tau = 5\n",
    "for T1 in T1_list:\n",
    "    T1_params = [[] for i in range(2)]\n",
    "    T2 = T1 + tau\n",
    "    dT = 0.1\n",
    "    combined_fidelity = NLJointOptimization(0, T1, T2, alpha, depth, None, excitation_pair)\n",
    "    grid_params.append(T1_params)\n",
    "np.save('grid_params_5_10', grid_params)"
   ]
  },
  {
   "cell_type": "markdown",
   "metadata": {},
   "source": [
    "# Begin calculations / plots"
   ]
  },
  {
   "cell_type": "code",
   "execution_count": null,
   "metadata": {
    "code_folding": [
     0
    ]
   },
   "outputs": [],
   "source": [
    "def GF(T1, tau):\n",
    "\n",
    "    P3_arr=['XZXZ', 'YZXZ', 'XZYZ', 'YZYZ']\n",
    "    coeff=[1, 1j, 1j, -1]\n",
    "    exc_labels_arr = [\n",
    "                (['IIII', 'IXII'], ['IIII', 'IIIX']), \n",
    "#                 (['IIII', 'IYII'], ['IIII', 'IIIY']),\n",
    "#                 (['IIII', 'IXII'], ['IIII', 'IIIY']),\n",
    "#                 (['IIII', 'IYII'], ['IIII', 'IIIX'])\n",
    "              ]\n",
    "    G = 0\n",
    "    \n",
    "    for i in range(len(exc_labels_arr)):\n",
    "        \n",
    "        excitations = exc_labels_arr[i]\n",
    "        # first excitation\n",
    "        exc_labels = excitations[0]\n",
    "        exc_params = numpy.array([-numpy.pi/2,numpy.pi/2])\n",
    "        exc_state = rotated_state(exc_labels, exc_params, state_g)\n",
    "        # first evolution\n",
    "        U_T1 = TimeEvolutionOperator(T1)\n",
    "        exact_evolved_state = U_T1@exc_state #evolved after T1\n",
    "        \n",
    "        # second excitation\n",
    "        exc_labels1 = excitations[1]\n",
    "        exc_params1 = numpy.array([-numpy.pi/2,numpy.pi/2])\n",
    "        state1 = rotated_state(exc_labels1, exc_params1, exact_evolved_state)\n",
    "\n",
    "        first_ground = U_T1@state_g\n",
    "\n",
    "        # second evolution\n",
    "        U_tau = TimeEvolutionOperator(tau)\n",
    "        state = U_tau@state1\n",
    "                \n",
    "        G_term = 0 \n",
    "        for j in range(len(P3_arr)):\n",
    "            # final excitation\n",
    "            exc_labels2 = [P3_arr[j]]\n",
    "            exc_params2 = numpy.array([numpy.pi/2])\n",
    "            evolved_state = rotated_state(exc_labels2, exc_params2, state)\n",
    "            \n",
    "            # evolution of ground state\n",
    "            U_T2 = TimeEvolutionOperator(T1+tau)\n",
    "            state2 = U_T2@state_g \n",
    "            \n",
    "            multiplier = 1\n",
    "            print(multiplier * coeff[j] * numpy.conjugate(state2)@evolved_state)\n",
    "            G_term += (multiplier * coeff[j] * numpy.conjugate(state2)@evolved_state)        \n",
    "        G = G + G_term\n",
    "        print()\n",
    "    return G * 4"
   ]
  },
  {
   "cell_type": "code",
   "execution_count": null,
   "metadata": {},
   "outputs": [],
   "source": [
    "def exact_states(T1, tau):\n",
    "    \n",
    "    excitations = [['IIII', 'IXII'], ['IIII', 'IIIX']] \n",
    "    # first excitation\n",
    "    exc_labels = excitations[0]\n",
    "    exc_params = numpy.array([-numpy.pi/2,numpy.pi/2])\n",
    "    global state_g\n",
    "    exc_state = rotated_state(exc_labels, exc_params, state_g)\n",
    "    # first evolution\n",
    "    U_T1 = TimeEvolutionOperator(T1)\n",
    "    exact_evolved_state = U_T1@exc_state #evolved after T1\n",
    "\n",
    "    # second excitation\n",
    "    exc_labels1 = excitations[1]\n",
    "    exc_params1 = numpy.array([-numpy.pi/2,numpy.pi/2])\n",
    "    state1 = rotated_state(exc_labels1, exc_params1, exact_evolved_state)\n",
    "\n",
    "    U_tau = TimeEvolutionOperator(tau)\n",
    "    U_T2 = TimeEvolutionOperator(T1+tau)\n",
    "\n",
    "    return [U_T2@state_g, U_tau@state1]"
   ]
  },
  {
   "cell_type": "code",
   "execution_count": null,
   "metadata": {},
   "outputs": [],
   "source": []
  }
 ],
 "metadata": {
  "kernelspec": {
   "display_name": "Python 3",
   "language": "python",
   "name": "python3"
  },
  "language_info": {
   "codemirror_mode": {
    "name": "ipython",
    "version": 3
   },
   "file_extension": ".py",
   "mimetype": "text/x-python",
   "name": "python",
   "nbconvert_exporter": "python",
   "pygments_lexer": "ipython3",
   "version": "3.9.4"
  },
  "varInspector": {
   "cols": {
    "lenName": 16,
    "lenType": 16,
    "lenVar": 40
   },
   "kernels_config": {
    "python": {
     "delete_cmd_postfix": "",
     "delete_cmd_prefix": "del ",
     "library": "var_list.py",
     "varRefreshCmd": "print(var_dic_list())"
    },
    "r": {
     "delete_cmd_postfix": ") ",
     "delete_cmd_prefix": "rm(",
     "library": "var_list.r",
     "varRefreshCmd": "cat(var_dic_list()) "
    }
   },
   "types_to_exclude": [
    "module",
    "function",
    "builtin_function_or_method",
    "instance",
    "_Feature"
   ],
   "window_display": false
  }
 },
 "nbformat": 4,
 "nbformat_minor": 4
}
