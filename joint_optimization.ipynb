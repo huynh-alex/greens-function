{
 "cells": [
  {
   "cell_type": "code",
   "execution_count": 1,
   "metadata": {
    "code_folding": [
     0
    ]
   },
   "outputs": [
    {
     "name": "stderr",
     "output_type": "stream",
     "text": [
      "C:\\Users\\abhuynh\\Miniconda3\\envs\\qiskit\\lib\\site-packages\\qiskit\\chemistry\\__init__.py:170: DeprecationWarning: The package qiskit.chemistry is deprecated. It was moved/refactored to qiskit_nature (pip install qiskit-nature). For more information see <https://github.com/Qiskit/qiskit-aqua/blob/master/README.md#migration-guide>\n",
      "  warn_package('chemistry', 'qiskit_nature', 'qiskit-nature')\n"
     ]
    }
   ],
   "source": [
    "# imports\n",
    "import warnings\n",
    "warnings. filterwarnings('ignore')\n",
    "\n",
    "import numpy\n",
    "from qpsolvers import solve_qp\n",
    "from  qiskit.chemistry import FermionicOperator\n",
    "from qiskit.aqua.operators.legacy.op_converter import to_weighted_pauli_operator\n",
    "from qiskit.chemistry.components.variational_forms import UCCSD\n",
    "from qiskit.aqua.components.optimizers import L_BFGS_B\n",
    "from qiskit import Aer\n",
    "from qiskit.quantum_info import Pauli\n",
    "from qiskit.aqua.operators import WeightedPauliOperator\n",
    "from qiskit.aqua.operators.legacy import op_converter\n",
    "from qiskit.aqua.algorithms import VQE\n",
    "from qiskit.aqua import QuantumInstance\n",
    "from tqdm import tqdm\n",
    "from joblib import Parallel, delayed\n",
    "import itertools\n",
    "from qiskit import QuantumRegister, QuantumCircuit, execute, ClassicalRegister\n",
    "from qiskit.circuit.library import U3Gate\n",
    "from qiskit.aqua.components.initial_states import Custom\n",
    "from qiskit.chemistry.components.initial_states import HartreeFock\n",
    "import scipy\n",
    "import matplotlib.pyplot as plt\n",
    "from qiskit.quantum_info import partial_trace, Statevector"
   ]
  },
  {
   "cell_type": "code",
   "execution_count": 2,
   "metadata": {
    "code_folding": [
     0
    ]
   },
   "outputs": [],
   "source": [
    "# 2 site Hubbard model parameters\n",
    "t = 1 #hopping factor\n",
    "U = 2 #coulomb repulsion factor\n",
    "mu = U/2 #chemical potential factor"
   ]
  },
  {
   "cell_type": "code",
   "execution_count": 3,
   "metadata": {
    "code_folding": [
     0
    ]
   },
   "outputs": [],
   "source": [
    "# 2x1 Hubbard Hamiltonian\n",
    "def HubbardHamiltonian(U,t,num_spin_orbitals,num_particles):\n",
    "    h1=numpy.zeros((4,4))\n",
    "    h2=numpy.zeros((4,4,4,4))\n",
    "    num_sites=int(num_spin_orbitals // 2)\n",
    "    for i in range(num_sites - 1):\n",
    "        h1[i, i + 1] = h1[i + 1, i] = -t\n",
    "        h1[i + num_sites, i + 1 + num_sites] = h1[i + 1 + num_sites, i + num_sites] = -t\n",
    "        h1[i][i] = -mu\n",
    "        h1[i + num_sites][i + num_sites] = -mu\n",
    "    h1[num_sites - 1][num_sites - 1] = -mu\n",
    "    h1[2 * num_sites - 1][2 * num_sites - 1] = -mu    \n",
    "    h1[0, num_sites - 1] = h1[num_sites - 1, 0] = -t\n",
    "    h1[num_sites, 2 * num_sites - 1] = h1[2 * num_sites - 1, num_sites] = -t\n",
    "    for i in range(num_sites):\n",
    "        h2[i, i , i + num_sites, i + num_sites] = U\n",
    "    fermion_op = FermionicOperator(h1 = h1, h2 = h2) # Fermionic Hamiltonian\n",
    "    qubit_op = fermion_op.mapping('jordan_wigner') #Qubit Hamiltonian\n",
    "    return qubit_op"
   ]
  },
  {
   "cell_type": "code",
   "execution_count": 4,
   "metadata": {
    "code_folding": [
     0
    ]
   },
   "outputs": [
    {
     "name": "stderr",
     "output_type": "stream",
     "text": [
      "C:\\Users\\abhuynh\\Miniconda3\\envs\\qiskit\\lib\\site-packages\\qiskit\\chemistry\\fermionic_operator.py:386: DeprecationWarning: The package qiskit.aqua.operators is deprecated. It was moved/refactored to qiskit.opflow (pip install qiskit-terra). For more information see <https://github.com/Qiskit/qiskit-aqua/blob/master/README.md#migration-guide>\n",
      "  pauli_list = WeightedPauliOperator(paulis=[])\n",
      "C:\\Users\\abhuynh\\Miniconda3\\envs\\qiskit\\lib\\site-packages\\qiskit\\chemistry\\fermionic_operator.py:394: DeprecationWarning: The variable qiskit.aqua.aqua_globals is deprecated. It was moved/refactored to qiskit.utils.algorithm_globals (pip install qiskit-terra). For more information see <https://github.com/Qiskit/qiskit-aqua/blob/master/README.md#migration-guide>\n",
      "  task_args=(threshold,), num_processes=aqua_globals.num_processes)\n"
     ]
    }
   ],
   "source": [
    "# construct the qubit operator rep. of the 2x1 Hubbard model and then the matrix representation\n",
    "qubit_H = HubbardHamiltonian(U = U, t = 1, num_spin_orbitals = 4, num_particles = 2)\n",
    "#constructing matrix rep. in the Fock space\n",
    "H_mat=op_converter.to_matrix_operator(qubit_H).dense_matrix"
   ]
  },
  {
   "cell_type": "code",
   "execution_count": 5,
   "metadata": {
    "code_folding": [
     0
    ]
   },
   "outputs": [],
   "source": [
    "# compute exact ground state energy and wavefunction through diagonalization\n",
    "w,v = numpy.linalg.eigh(H_mat)\n",
    "Eg = w[0]\n",
    "# print(\"ground state energy-\", w[0])\n",
    "state_g = v[:,0]\n",
    "# print(\"ground state wvfn.\", state_g)"
   ]
  },
  {
   "cell_type": "code",
   "execution_count": 6,
   "metadata": {
    "code_folding": [
     0
    ]
   },
   "outputs": [],
   "source": [
    "def rotated_state(labels,params,state0):\n",
    "    U=WeightedPauliOperator([[1,Pauli.from_label('IIII')]])\n",
    "    for i in range(len(labels)):\n",
    "        U=WeightedPauliOperator([[numpy.cos(params[i]),Pauli.from_label('IIII')],[-1j*numpy.sin(params[i]),Pauli.from_label(labels[i])]]).multiply(U)\n",
    "        U_mat=op_converter.to_matrix_operator(U).dense_matrix\n",
    "        rot_state=numpy.dot(U_mat,state0) \n",
    "    return rot_state"
   ]
  },
  {
   "cell_type": "code",
   "execution_count": 7,
   "metadata": {
    "code_folding": [
     0
    ]
   },
   "outputs": [],
   "source": [
    "def TimeEvolutionOperator(T):\n",
    "    return numpy.dot(numpy.dot(v,numpy.diag(numpy.exp(-1j*w*T))),numpy.conjugate(v.T))"
   ]
  },
  {
   "cell_type": "markdown",
   "metadata": {},
   "source": [
    "### $G_{1,2}^{\\uparrow,\\uparrow}(t>0)=\\langle G|e^{iHT}c_{1\\uparrow}(0)e^{-iHT}c^{\\dagger}_{2\\uparrow}(0)|G\\rangle$, $c^{\\dagger}_{2\\uparrow}(0)=IIXZ+iIIYZ$, <br>\n",
    "### $|\\mathcal{E}\\rangle = IIXZ|G\\rangle= e^{i\\frac{\\pi}{2}IIXZ}e^{i\\frac{2\\pi}{27}IZXY}e^{i\\frac{\\pi}{4}XYII}e^{i\\frac{\\pi}{4}IIXY}e^{-i\\frac{\\pi}{2}}|G\\rangle$, <br>\n",
    "\n",
    "### also constructing $IIIY|G\\rangle$ "
   ]
  },
  {
   "cell_type": "code",
   "execution_count": 8,
   "metadata": {
    "code_folding": [
     0
    ]
   },
   "outputs": [],
   "source": [
    "# excited state 1\n",
    "exc_labels = ['IIII','IIXZ']\n",
    "exc_params = numpy.array([-numpy.pi/2,numpy.pi/2])\n",
    "exc_state = rotated_state(exc_labels,exc_params,state_g)\n",
    "\n",
    "# excited state 2\n",
    "exc_labels2 = ['IIII','IIIY']\n",
    "exc_params2 = [-numpy.pi/2,numpy.pi/2]\n",
    "exc_state2 = rotated_state(exc_labels2,exc_params2,state_g)\n",
    "exc_state2[numpy.abs(exc_state)<1e-5] = 0"
   ]
  },
  {
   "cell_type": "code",
   "execution_count": 9,
   "metadata": {
    "code_folding": [
     0
    ]
   },
   "outputs": [],
   "source": [
    "# greens function evolution\n",
    "def greens_function(T, dT, T0):\n",
    "    steps = int((T-T0)/dT)\n",
    "    T_arr = numpy.linspace(T0, T, steps)\n",
    "    GF_exact = []\n",
    "    for i in tqdm(range(len(T_arr))):\n",
    "        U_T = TimeEvolutionOperator(T_arr[i])\n",
    "        exact_evolved_state = numpy.dot(U_T, exc_state)\n",
    "        G1 = numpy.exp(1j*(U-rho)/2.)*numpy.dot(numpy.conjugate(exc_state2), exact_evolved_state)\n",
    "        GF_exact.append(G1)\n",
    "    return GF_exact"
   ]
  },
  {
   "cell_type": "code",
   "execution_count": 10,
   "metadata": {
    "code_folding": [
     0
    ]
   },
   "outputs": [
    {
     "name": "stderr",
     "output_type": "stream",
     "text": [
      "100%|█████████████████████████████████████████████████████████████████████████████| 300/300 [00:00<00:00, 33305.75it/s]\n"
     ]
    }
   ],
   "source": [
    "# parameters for greens function\n",
    "T = 30\n",
    "dT = 0.1\n",
    "T0 = 0\n",
    "steps = int((T-T0)/dT)\n",
    "T_arr = numpy.linspace(T0,T,steps)\n",
    "rho = numpy.sqrt(U**2+16*t*t)\n",
    "G = greens_function(T,dT,T0)"
   ]
  },
  {
   "cell_type": "code",
   "execution_count": 11,
   "metadata": {
    "code_folding": []
   },
   "outputs": [],
   "source": [
    "# graphing greens function and spectral function\n",
    "# fig, ax = plt.subplots(1,2)\n",
    "# plt.rcParams[\"figure.figsize\"] = (40, 20)\n",
    "\n",
    "# ax[0].tick_params(labelsize=30)\n",
    "# ax[0].plot(T_arr, numpy.real(G), color='black')\n",
    "\n",
    "# \"\"\"SPECTRAL FUNCTION\"\"\"\n",
    "# # Number of sample points\n",
    "# # num_samp1=len(G)\n",
    "# # sample spacing\n",
    "# # ImgGf = numpy.fft.fft(numpy.imag(G))\n",
    "# # Tf1 = numpy.linspace(0, 40, num_samp1//2)\n",
    "# # ax[1].set_yscale('log')\n",
    "# # ax[1].tick_params(labelsize=20)\n",
    "# # ax[1].plot(Tf1, 2.0/num_samp1 * numpy.abs(ImgGf[:num_samp1//2])/numpy.pi, color='black', linestyle='-')\n",
    "# # ax[1].plot(-Tf1, 2.0/num_samp1 * numpy.abs(ImgGf[:num_samp1//2])/numpy.pi, color='black', linestyle='-')\n",
    "# # ax[1].plot(Tf1, 2.0/num_samp1 * numpy.abs(ImgGf[:num_samp1//2])/numpy.pi, color='black', linestyle='-')\n",
    "# # ax[1].plot(-Tf1, 2.0/num_samp1 * numpy.abs(ImgGf[:num_samp1//2])/numpy.pi, color='black', linestyle='-')\n",
    "# # ax[1].plot(T_arr,numpy.imag(G),linestyle='-')\n",
    "# plt.show()"
   ]
  },
  {
   "cell_type": "code",
   "execution_count": 12,
   "metadata": {
    "code_folding": [
     0
    ]
   },
   "outputs": [],
   "source": [
    "# generators and angles for constructing adaptive ansatz for the 2x1 Hubbard model at U=2 t=1\n",
    "labels=['IIXY', 'XYII', 'IZXY']\n",
    "\n",
    "# U = 2\n",
    "params = [-0.7853980948120887, -0.7853983093282092, 0.23182381954801887]\n",
    "\n",
    "# U = 3\n",
    "# params = [0.7853959259806095,  0.7853996767775284, -1.2490064682759752]"
   ]
  },
  {
   "cell_type": "code",
   "execution_count": 13,
   "metadata": {
    "code_folding": [
     0
    ]
   },
   "outputs": [
    {
     "name": "stderr",
     "output_type": "stream",
     "text": [
      "C:\\Users\\abhuynh\\Miniconda3\\envs\\qiskit\\lib\\site-packages\\qiskit\\aqua\\components\\initial_states\\custom.py:79: DeprecationWarning: The Custom class is deprecated as of Aqua 0.9 and will be removed no earlier than 3 months after the release date. Instead, all algorithms and circuits accept a plain QuantumCircuit. Custom(state_vector=vector) is the same as a circuit where the ``initialize(vector/np.linalg.norm(vector))`` method has been called.\n",
      "  super().__init__()\n",
      "C:\\Users\\abhuynh\\Miniconda3\\envs\\qiskit\\lib\\site-packages\\qiskit\\aqua\\components\\variational_forms\\variational_form.py:48: DeprecationWarning: The package qiskit.aqua.components.variational_forms is deprecated. For more information see <https://github.com/Qiskit/qiskit-aqua/blob/master/README.md#migration-guide>\n",
      "  warn_package('aqua.components.variational_forms')\n",
      "C:\\Users\\abhuynh\\Miniconda3\\envs\\qiskit\\lib\\site-packages\\qiskit\\aqua\\components\\optimizers\\optimizer.py:49: DeprecationWarning: The package qiskit.aqua.components.optimizers is deprecated. It was moved/refactored to qiskit.algorithms.optimizers (pip install qiskit-terra). For more information see <https://github.com/Qiskit/qiskit-aqua/blob/master/README.md#migration-guide>\n",
      "  warn_package('aqua.components.optimizers',\n"
     ]
    }
   ],
   "source": [
    "#circuit initialization\n",
    "init_circ = QuantumCircuit(2*2)\n",
    "init_circ.x(0)\n",
    "init_circ.x(2)\n",
    "init_state_circuit=Custom(4, circuit = init_circ)\n",
    "init_state = init_state_circuit #HartreeFock(num_spin_orbitals,num_particles=4,qubit_mapping='jordan_wigner',two_qubit_reduction=False)\n",
    "var_form_base = UCCSD(4,num_particles=2, initial_state=init_state,qubit_mapping='jordan_wigner',two_qubit_reduction=False)\n",
    "backend = Aer.get_backend('statevector_simulator')\n",
    "optimizer = L_BFGS_B()\n",
    "\n",
    "#adaptive circuit construction\n",
    "var_form_base.manage_hopping_operators()\n",
    "circ0 = var_form_base.construct_circuit(parameters = [])\n",
    "state0 = execute(circ0,backend).result().get_statevector()\n",
    "state0[numpy.abs(state0)<1e-5] = 0\n",
    "adapt_state = rotated_state(labels, params, state0)"
   ]
  },
  {
   "cell_type": "code",
   "execution_count": 14,
   "metadata": {
    "code_folding": [
     0
    ]
   },
   "outputs": [
    {
     "name": "stdout",
     "output_type": "stream",
     "text": [
      "overlap between analytic and numerical ground state is- (-0.999999999999987+0j)\n"
     ]
    }
   ],
   "source": [
    "# checking inner product between numerical and exact ground state\n",
    "print(\"overlap between analytic and numerical ground state is-\",numpy.dot(state_g,adapt_state))"
   ]
  },
  {
   "cell_type": "code",
   "execution_count": 15,
   "metadata": {
    "code_folding": [
     0
    ]
   },
   "outputs": [],
   "source": [
    "# confirming exact energy\n",
    "\n",
    "# check expectation value of the Hamiltonian with respect to adaptive ansatz\n",
    "def expectation_op(Op,state):\n",
    "    return numpy.dot(numpy.dot(state,Op),numpy.conjugate(state))\n",
    "\n",
    "E_adapt = expectation_op(H_mat,adapt_state)\n",
    "\n",
    "# print(\"exact energy-\",Eg)\n",
    "# print(\"Energy from adaptive ansatz-\",E_adapt)\n",
    "# print(\"convergence error\", E_adapt-Eg)"
   ]
  },
  {
   "cell_type": "code",
   "execution_count": 17,
   "metadata": {
    "code_folding": []
   },
   "outputs": [],
   "source": [
    "# constructing the excited state ansatz\n",
    "exc_labels = ['IIII','IIXZ']\n",
    "exc_params = numpy.array([-numpy.pi/2,numpy.pi/2])\n",
    "exc_state = rotated_state(exc_labels,exc_params,adapt_state)\n",
    "exc_state[numpy.abs(exc_state)<1e-5] = 0"
   ]
  },
  {
   "cell_type": "code",
   "execution_count": 18,
   "metadata": {
    "code_folding": [
     0
    ]
   },
   "outputs": [
    {
     "name": "stdout",
     "output_type": "stream",
     "text": [
      "overlap between analytic and numerical exc. state is- (-0.999999999999987+0j)\n"
     ]
    }
   ],
   "source": [
    "# exact excited state\n",
    "exact_exc_state=rotated_state(exc_labels,exc_params,state_g)\n",
    "#checking inner product between numerical and analytic state\n",
    "print(\"overlap between analytic and numerical exc. state is-\",numpy.dot(numpy.conjugate(exact_exc_state),exc_state))"
   ]
  },
  {
   "cell_type": "code",
   "execution_count": 19,
   "metadata": {
    "code_folding": [
     0
    ]
   },
   "outputs": [],
   "source": [
    "def M(p,q,vqs_params,ref_state):\n",
    "    thetas=numpy.array(vqs_params)\n",
    "    shift_1=numpy.array([0]*(p)+[numpy.pi/2]+[0]*(len(vqs_params)-p-1))\n",
    "    shift_2=numpy.array([0]*(q)+[numpy.pi/2]+[0]*(len(vqs_params)-q-1))\n",
    "    state_1=rotated_state(vqs_generators,vqs_params+shift_1,ref_state)\n",
    "    state_2=rotated_state(vqs_generators,vqs_params+shift_2,ref_state)\n",
    "    M_arr=numpy.real(numpy.dot(numpy.conjugate(state_1),state_2))\n",
    "    return M_arr"
   ]
  },
  {
   "cell_type": "code",
   "execution_count": 20,
   "metadata": {
    "code_folding": [
     0
    ]
   },
   "outputs": [],
   "source": [
    "def V(p,vqs_params,ref_state):\n",
    "    thetas=numpy.array(vqs_params)\n",
    "    shift_1=numpy.array([0]*(p)+[numpy.pi/2]+[0]*(len(vqs_params)-p-1))\n",
    "    state_1=rotated_state(vqs_generators,vqs_params+shift_1,ref_state)\n",
    "    state=rotated_state(vqs_generators,vqs_params,ref_state)\n",
    "    V_arr=numpy.imag(numpy.dot(numpy.dot(numpy.conjugate(state_1),H_mat),state))\n",
    "    return V_arr"
   ]
  },
  {
   "cell_type": "markdown",
   "metadata": {},
   "source": [
    "# Alex stuff"
   ]
  },
  {
   "cell_type": "code",
   "execution_count": 21,
   "metadata": {
    "code_folding": [
     0,
     21
    ]
   },
   "outputs": [],
   "source": [
    "# basic setup\n",
    "import numpy as np\n",
    "import copy\n",
    "\n",
    "PAULI_X = np.array([[0,1],[1,0]], dtype='complex128')\n",
    "PAULI_Y = np.array([[0,-1j],[1j,0]], dtype='complex128')\n",
    "PAULI_Z = np.array([[1,0],[0,-1]], dtype='complex128')\n",
    "IDENTITY = np.eye(2, dtype='complex128')\n",
    "\n",
    "def pauli_string_to_matrix(pauli_string):\n",
    "    return Pauli(pauli_string).to_matrix()\n",
    "\n",
    "def pauli_string_exp_to_matrix(pauli_string, param):\n",
    "    return expm(-1j * param * Pauli(pauli_string).to_matrix())\n",
    "\n",
    "\n",
    "backend = Aer.get_backend('statevector_simulator')\n",
    "qasm_backend = Aer.get_backend('qasm_simulator')\n",
    "\n",
    "# circuit creation\n",
    "\n",
    "def rotate_state(pauli_string, param, circuit):\n",
    "    ancilla_boolean = (1 if circuit.num_qubits == 5 else 0)\n",
    "    if pauli_string == 'IIII':\n",
    "        gate = 1\n",
    "        for j in range(len(pauli_string)):\n",
    "            gate = np.kron(gate, IDENTITY)\n",
    "        gate *= -1j * np.sin(param)\n",
    "        gate += np.cos(param) * np.eye(16)\n",
    "        qubits_to_act_on = [1,2,3,4] if ancilla_boolean else [0,1,2,3]\n",
    "        circuit.unitary(gate, qubits_to_act_on, label=pauli_string)\n",
    "    else:\n",
    "        qubits_to_act_on = []\n",
    "        gate = 1\n",
    "        for j in range(len(pauli_string)):\n",
    "            if pauli_string[j] == 'X':\n",
    "                gate = np.kron(gate, PAULI_X)\n",
    "            elif pauli_string[j] == 'Y':\n",
    "                gate = np.kron(gate, PAULI_Y)\n",
    "            elif pauli_string[j] == 'Z':\n",
    "                gate = np.kron(gate, PAULI_Z)\n",
    "            if pauli_string[j] != 'I':\n",
    "                qubits_to_act_on.append(np.abs(j - 3) + (0,1)[ancilla_boolean])\n",
    "        gate *= (-1j * np.sin(param))\n",
    "        gate += np.cos(param) * np.eye(2**len(qubits_to_act_on))\n",
    "        qubits_to_act_on.reverse()\n",
    "        circuit.unitary(gate, qubits_to_act_on, label = pauli_string)\n",
    "        circuit.barrier()\n",
    "\n",
    "def create_initial_state():\n",
    "    circuit = QuantumCircuit(4)\n",
    "    circuit.x(0)\n",
    "    circuit.x(2)\n",
    "    circuit.barrier()\n",
    "    return circuit\n",
    "\n",
    "def create_adapt_ground_state():\n",
    "    labels = ['IIXY', 'XYII', 'IZXY']\n",
    "    params = [-0.7853980948120887, -0.7853983093282092, 0.23182381954801887]\n",
    "    circuit = create_initial_state()\n",
    "    for i in range(len(labels)):\n",
    "        rotate_state(labels[i], params[i], circuit)\n",
    "    return circuit\n",
    "\n",
    "def create_excited_state():\n",
    "    labels=['IIXY', 'XYII', 'IZXY', 'IIII', 'IIXZ']\n",
    "    params=[-0.7853980948120887, -0.7853983093282092, 0.23182381954801887,numpy.pi/2,-numpy.pi/2.] \n",
    "    circuit = create_initial_state()\n",
    "    for i in range(len(labels)):\n",
    "        rotate_state(labels[i], params[i], circuit)\n",
    "    circuit.barrier()\n",
    "    return circuit\n",
    "\n",
    "def create_excited_state2():\n",
    "    labels = ['IIXY', 'XYII', 'IZXY', 'IIII', 'IIIY']\n",
    "    params = [-0.7853980948120887, -0.7853983093282092, 0.23182381954801887, -numpy.pi/2, numpy.pi/2]\n",
    "    circuit = create_initial_state()\n",
    "    for i in range(len(labels)):\n",
    "        rotate_state(labels[i], params[i], circuit)\n",
    "    return circuit\n",
    "\n",
    "excited_state = execute(create_excited_state(), backend).result().get_statevector()\n",
    "excited_state2 = execute(create_excited_state2(), backend).result().get_statevector()"
   ]
  },
  {
   "cell_type": "code",
   "execution_count": 22,
   "metadata": {
    "code_folding": [
     0
    ]
   },
   "outputs": [],
   "source": [
    "def create_circuit_ancilla(ancilla_boolean, state):\n",
    "    circuit = QuantumCircuit(4 + (0,1)[ancilla_boolean])\n",
    "    circuit.x(0 + (0,1)[ancilla_boolean])\n",
    "    circuit.x(2 + (0,1)[ancilla_boolean])\n",
    "    labels = ['IIXY', 'XYII', 'IZXY']\n",
    "    params = [-0.7853980948120887, -0.7853983093282092, 0.23182381954801887]\n",
    "\n",
    "    if state == 'state2':\n",
    "        labels.extend(['IIII', 'IIXZ'])\n",
    "        params.extend([numpy.pi/2,-numpy.pi/2.])\n",
    "    \n",
    "    for i in range(len(labels)):\n",
    "        rotate_state(labels[i], params[i], circuit)   \n",
    "\n",
    "    circuit.barrier()\n",
    "    return circuit"
   ]
  },
  {
   "cell_type": "code",
   "execution_count": 23,
   "metadata": {
    "code_folding": [
     0
    ]
   },
   "outputs": [],
   "source": [
    "def controlled_rotate_state(pauli_string, param, circuit):\n",
    "    if pauli_string == 'IIII':\n",
    "        return\n",
    "    num_qubits = 4 #the ancilla does not count\n",
    "    qubits_to_act_on = []\n",
    "    gate = 1\n",
    "    for j in range(len(pauli_string)):\n",
    "        if pauli_string[j] == 'X':\n",
    "            gate = np.kron(gate, PAULI_X)\n",
    "        elif pauli_string[j] == 'Y':\n",
    "            gate = np.kron(gate, PAULI_Y)\n",
    "        elif pauli_string[j] == 'Z':\n",
    "            gate = np.kron(gate, PAULI_Z)\n",
    "        if pauli_string[j] != 'I':\n",
    "            qubits_to_act_on.append(np.abs(j - num_qubits + 1) + 1)\n",
    "    qubits_to_act_on.reverse()\n",
    "\n",
    "    #convert unitary to gate through a temporary circuit\n",
    "    temp_circuit = QuantumCircuit(2)\n",
    "    temp_circuit.unitary(gate, [0, 1]) #we only have controlled 2-qubit unitaries: IIXX, XXII, IIYY, YYII, ZIZI, IZIZ\n",
    "    controlled_gate = temp_circuit.to_gate(label = 'Controlled ' + pauli_string).control(1)\n",
    "    qubits_to_act_on.insert(0, 0) #insert ancilla bit to front of list\n",
    "    circuit.append(controlled_gate, qubits_to_act_on)"
   ]
  },
  {
   "cell_type": "code",
   "execution_count": 24,
   "metadata": {
    "code_folding": [
     0,
     12
    ]
   },
   "outputs": [],
   "source": [
    "def measure_ancilla(circuit, shots):\n",
    "    classical_register = ClassicalRegister(1, 'classical_reg')\n",
    "    circuit.add_register(classical_register)\n",
    "    circuit.measure(0, classical_register[0])\n",
    "\n",
    "    result = execute(circuit, qasm_backend, shots = shots).result() \n",
    "    counts = result.get_counts(circuit)\n",
    "    if counts.get('0') != None:\n",
    "        return 2 * (result.get_counts(circuit)['0'] / shots) - 1\n",
    "    else:\n",
    "        return -1\n",
    "\n",
    "def measure_ancilla_statevector(circuit):\n",
    "    full_statevector = Statevector(circuit)\n",
    "    partial_density_matrix = partial_trace(full_statevector, [1, 2, 3, 4])\n",
    "    partial_statevector = np.diagonal(partial_density_matrix)\n",
    "    return ((2 * partial_statevector[0]) - 1).real    "
   ]
  },
  {
   "cell_type": "code",
   "execution_count": 25,
   "metadata": {
    "code_folding": [
     0,
     24,
     56,
     80
    ]
   },
   "outputs": [],
   "source": [
    "def calculate_m_statevector(p, q, vqs_generators, vqs_params, state):\n",
    "    circuit = create_circuit_ancilla(True, state)\n",
    "\n",
    "    circuit.h(0)\n",
    "    circuit.x(0)\n",
    "    circuit.barrier()\n",
    "    \n",
    "    for i in range(0, p):\n",
    "        rotate_state(vqs_generators[i], vqs_params[i], circuit)\n",
    "    circuit.barrier()\n",
    "\n",
    "    controlled_rotate_state(vqs_generators[p], vqs_params[p], circuit)\n",
    "    circuit.barrier()\n",
    "\n",
    "    for i in range(p, q):\n",
    "        rotate_state(vqs_generators[i], vqs_params[i], circuit)\n",
    "    circuit.barrier()\n",
    "\n",
    "    circuit.x(0)\n",
    "    controlled_rotate_state(vqs_generators[q], vqs_params[q], circuit)\n",
    "    circuit.h(0)\n",
    "    circuit.barrier()\n",
    "    return measure_ancilla_statevector(circuit)\n",
    "\n",
    "def calculate_v_statevector(p, vqs_generators, vqs_params, state):\n",
    "    n_theta = len(vqs_params)    \n",
    "    circuit = create_circuit_ancilla(True, state)\n",
    "\n",
    "    circuit.h(0)\n",
    "    circuit.x(0)\n",
    "    \n",
    "    for i in range(0, p):\n",
    "        rotate_state(vqs_generators[i], vqs_params[i], circuit)\n",
    "    circuit.barrier()\n",
    "\n",
    "    controlled_rotate_state(vqs_generators[p], vqs_params[p], circuit)\n",
    "    circuit.barrier()\n",
    "\n",
    "    for i in range(p, n_theta):\n",
    "        rotate_state(vqs_generators[i], vqs_params[i], circuit)\n",
    "    circuit.barrier()\n",
    "\n",
    "    circuit.x(0)\n",
    "\n",
    "    coeffs = [0.5, 0.5, -0.5, -0.5, -0.5, -0.5, -1.0]\n",
    "    measurements = []\n",
    "    for i in range(len(coeffs)):\n",
    "        single_h_circuit = copy.deepcopy(circuit)\n",
    "        controlled_rotate_state(vqs_generators[i], coeffs[i], single_h_circuit)\n",
    "        single_h_circuit.h(0)\n",
    "        measurements.append(measure_ancilla_statevector(single_h_circuit))\n",
    "    results = 0\n",
    "    for i in range(len(coeffs)):\n",
    "        results += measurements[i] * coeffs[i]\n",
    "    return results\n",
    "\n",
    "def calculate_m_shots(p, q, vqs_generators, vqs_params, shots, state):\n",
    "    circuit = create_circuit_ancilla(True, state) #Creates |E>\n",
    "\n",
    "    circuit.h(0)\n",
    "    circuit.x(0)\n",
    "    circuit.barrier()\n",
    "    \n",
    "    for i in range(0, p):\n",
    "        rotate_state(vqs_generators[i], vqs_params[i], circuit)\n",
    "    circuit.barrier()\n",
    "\n",
    "    controlled_rotate_state(vqs_generators[p], vqs_params[p], circuit)\n",
    "    circuit.barrier()\n",
    "\n",
    "    for i in range(p, q):\n",
    "        rotate_state(vqs_generators[i], vqs_params[i], circuit)\n",
    "    circuit.barrier()\n",
    "\n",
    "    circuit.x(0)\n",
    "    controlled_rotate_state(vqs_generators[q], vqs_params[q], circuit)\n",
    "    circuit.h(0)\n",
    "    circuit.barrier()\n",
    "    return measure_ancilla(circuit, shots)\n",
    "\n",
    "def calculate_v_shots(p, vqs_generators, vqs_params, shots, state):\n",
    "    n_theta = len(vqs_params)    \n",
    "    circuit = create_circuit_ancilla(True, state)\n",
    "\n",
    "    circuit.h(0)\n",
    "    circuit.x(0)\n",
    "    \n",
    "    for i in range(0, p):\n",
    "        rotate_state(vqs_generators[i], vqs_params[i], circuit)\n",
    "    circuit.barrier()\n",
    "\n",
    "    controlled_rotate_state(vqs_generators[p], vqs_params[p], circuit)\n",
    "    circuit.barrier()\n",
    "\n",
    "    for i in range(p, n_theta):\n",
    "        rotate_state(vqs_generators[i], vqs_params[i], circuit)\n",
    "    circuit.barrier()\n",
    "\n",
    "    circuit.x(0)\n",
    "\n",
    "    coeffs = [0.5, 0.5, -0.5, -0.5, -0.5, -0.5, -1.0]\n",
    "    measurements = []\n",
    "    for i in range(len(coeffs)):\n",
    "        single_h_circuit = copy.deepcopy(circuit)\n",
    "        controlled_rotate_state(vqs_generators[i], coeffs[i], single_h_circuit)\n",
    "        single_h_circuit.h(0)\n",
    "        measurements.append(measure_ancilla(single_h_circuit, shots))\n",
    "    results = 0\n",
    "    for i in range(len(coeffs)):\n",
    "        results += measurements[i] * coeffs[i]\n",
    "    return results"
   ]
  },
  {
   "cell_type": "code",
   "execution_count": 26,
   "metadata": {
    "code_folding": [
     0,
     11
    ]
   },
   "outputs": [],
   "source": [
    "def Cost(M,V):\n",
    "    #f=1/2x^TPx+q^{T}x\n",
    "    #Gx<=h\n",
    "    #Ax=b\n",
    "#     alpha = 0\n",
    "    alpha=1e-3\n",
    "    P=M.T@M+alpha*numpy.eye(len(V))\n",
    "    q=M.T@V\n",
    "    thetaDot=solve_qp(P,-q)\n",
    "    return thetaDot\n",
    "\n",
    "def McEvolve(vqs_params_init,T,dT,T0,exc_state, way):\n",
    "    steps=int((T-T0)/dT)\n",
    "    T_arr=numpy.linspace(T0,T,steps)\n",
    "    vqs_params=vqs_params_init\n",
    "    vqs_dot_hist=[]\n",
    "    vqs_hist=[vqs_params]\n",
    "    FidelityArr=[]\n",
    "    GF_exact=[]\n",
    "    GF_sim=[]\n",
    "    U = 2\n",
    "    for i in tqdm(range(len(T_arr))):\n",
    "        #evaluations at time step t_i\n",
    "        U_T=TimeEvolutionOperator(T_arr[i])\n",
    "        #exact state\n",
    "        exact_evolved_state=numpy.dot(U_T,exc_state)\n",
    "        vqs_state=rotated_state(vqs_generators,vqs_hist[-1], exc_state)\n",
    "\n",
    "        G1=np.exp(1j*(U-rho)/2)*numpy.dot(np.conj(exc_state2), exact_evolved_state).real\n",
    "        GF_exact.append(G1)\n",
    "        G2=np.exp(1j*(U-rho)/2)*numpy.dot(np.conj(exc_state2), vqs_state).real\n",
    "        GF_sim.append(G2)\n",
    "#         print(\"Green functions\",G1,G2)\n",
    "   \n",
    "        FidelityArr.append(numpy.abs(numpy.dot(vqs_state,numpy.conjugate(exact_evolved_state)))**2)\n",
    "        print(\"Fidelity\",FidelityArr[-1])    \n",
    "        \n",
    "        arr = [(j,k) for j in range(len(vqs_params)) for k in range(len(vqs_params)) if j<=k]\n",
    "        M_mat = numpy.zeros((len(vqs_params),len(vqs_params)))\n",
    "\n",
    "        #constructing McLachlan\n",
    "        if way == 'Anirban':\n",
    "            M_elems = Parallel(n_jobs=-1,verbose=0)(delayed(M)(arr[i][0],arr[i][1],vqs_params,exc_state) for i in range(len(arr)))\n",
    "            V_vec=numpy.array([V(p,vqs_params,exc_state) for p in range(len(vqs_params))])\n",
    "        \n",
    "        # Statevector way\n",
    "        elif way == 'statevector':\n",
    "            M_elems = Parallel(n_jobs=-1)(delayed(calculate_m_statevector)(arr[i][0], arr[i][1], vqs_generators, vqs_params, 'state2') for i in range(len(arr)))       \n",
    "            V_vec = Parallel(n_jobs=-1)(delayed(calculate_v_statevector)(p, vqs_generators, vqs_params, 'state2') for p in range(len(vqs_params)))\n",
    "        \n",
    "        # Shots way\n",
    "        elif way == 'shots':\n",
    "            shots = 2**15\n",
    "            M_elems = Parallel(n_jobs=-1)(delayed(calculate_m_shots)(arr[i][0], arr[i][1], vqs_generators, vqs_params, shots, 'state2') for i in range(len(arr)))       \n",
    "            V_vec = Parallel(n_jobs=-1)(delayed(calculate_v_shots)(p, vqs_generators, vqs_params, shots, 'state2') for p in range(len(vqs_params)))\n",
    "\n",
    "        for p in range(len(arr)):\n",
    "            M_mat[arr[p][0]][arr[p][1]] = M_mat[arr[p][1]][arr[p][0]] = M_elems[p]\n",
    "            \n",
    "        vqs_params_dot=Cost(M_mat,V_vec)#numpy.linalg.lstsq(M_mat,V_vec,rcond=None)[0]\n",
    "        vqs_dot_hist.append(vqs_params_dot)\n",
    "        \n",
    "        \n",
    "#         def Error(vqs_params_dot):\n",
    "#             quant=numpy.sum((M_mat@vqs_params_dot-V_vec)@(M_mat@vqs_params_dot-V_vec).T)\n",
    "#             print(quant)\n",
    "#             return quant\n",
    "#         error=Error(vqs_params_dot)\n",
    "#         print(\"Initial Error after least squares-\", error)\n",
    "        \n",
    "        #Euler\n",
    "        #vqs_params=vqs_params+vqs_dot_hist[-1]*dT\n",
    "        #Adams-Bashforth\n",
    "    \n",
    "        if i>0:\n",
    "            vqs_params=vqs_params+1.5*dT*vqs_dot_hist[-1]-0.5*dT*vqs_dot_hist[-2]\n",
    "        else:\n",
    "            vqs_params=vqs_params+vqs_dot_hist[-1]*dT \n",
    "        vqs_hist.append(vqs_params)\n",
    "    \n",
    "    return vqs_hist,FidelityArr,GF_sim,GF_exact    "
   ]
  },
  {
   "cell_type": "code",
   "execution_count": 27,
   "metadata": {
    "code_folding": [],
    "scrolled": true
   },
   "outputs": [],
   "source": [
    "# Single optimization\n",
    "T=5\n",
    "dT=0.1\n",
    "\n",
    "nd=2\n",
    "vqs_generators=['ZIZI','IZIZ','IIXX','IIYY','XXII','YYII','IIII']*nd\n",
    "vqs_params=numpy.zeros(len(vqs_generators))\n",
    "\n",
    "# vqs_params_history,FidelityArr,GF_sim,GF_exact=McEvolve(vqs_params,T,dT,0,exc_state, 'statevector')"
   ]
  },
  {
   "cell_type": "code",
   "execution_count": 28,
   "metadata": {
    "code_folding": [
     0
    ]
   },
   "outputs": [],
   "source": [
    "# fig, ax = plt.subplots(dpi=160)\n",
    "# ax.set_title('t=30, dt=0.1, U=2')\n",
    "# T_arr\n",
    "# ax.plot(GF_sim, label = 'VQS - statevector', color = 'blue')\n",
    "# ax.plot(GF_exact, label = 'Exact', color = 'red')\n",
    "# plt.legend()\n",
    "# plt.show()"
   ]
  },
  {
   "cell_type": "code",
   "execution_count": 29,
   "metadata": {
    "code_folding": [
     0
    ]
   },
   "outputs": [],
   "source": [
    "# # Spectral function plot\n",
    "# G_sim = GF_sim\n",
    "# G_exact = GF_exact\n",
    "# # Number of sample points\n",
    "# num_samp=len(G_sim)\n",
    "# # sample spacing\n",
    "# ImgG_1f = numpy.fft.fft(numpy.real(G_sim))\n",
    "# ImgG_2f = numpy.fft.fft(numpy.real(G_exact))\n",
    "# plt.rcParams[\"figure.figsize\"] = (20,10)\n",
    "# Tf = numpy.linspace(0.0, 1//(2.0*dT), num_samp//2)\n",
    "# fig, ax = plt.subplots()\n",
    "# ax.set_xlabel(r'$\\omega$',fontsize=20)\n",
    "# ax.tick_params(labelsize=20)\n",
    "# ax.set_yscale('log')\n",
    "# ax.plot(Tf, 2.0/num_samp * numpy.abs(ImgG_1f[:num_samp//2])/numpy.pi,marker='s',color='b',linestyle='',label=r'$Im G_{VHS - statevector}^{1,2}(1,2,\\omega)$')\n",
    "# ax.plot(-Tf, 2.0/num_samp * numpy.abs(ImgG_1f[:num_samp//2])/numpy.pi,marker='s',color='b',linestyle='')\n",
    "# ax.plot(Tf, 2.0/num_samp * numpy.abs(ImgG_2f[:num_samp//2])/numpy.pi,color='r',linestyle='-',label=r'$Im G_{exact}^{1,2}(1,2,\\omega)$')\n",
    "# ax.plot(-Tf, 2.0/num_samp * numpy.abs(ImgG_2f[:num_samp//2])/numpy.pi,color='r',linestyle='-')\n",
    "# plt.legend(fontsize=15)\n",
    "# plt.show()"
   ]
  },
  {
   "cell_type": "markdown",
   "metadata": {},
   "source": [
    "Find  a circuit rep of U(theta) such that\n",
    "$U(\\theta)|G\\rangle \\approx e^{-iHT}|G\\rangle$ and $U(\\theta)|E\\rangle \\approx e^{-iHT}|E\\rangle$.<br>\n",
    "$U(\\theta)|G\\rangle \\approx e^{-iHT}|G\\rangle\\to M_{1}\\dot{\\theta}=V_{1}$, $U(\\theta)|G\\rangle \\approx e^{-iHT}|E\\rangle\\to M_{2}\\dot{\\theta}=V_{2}$<br>\n",
    "Map this to a quadratic optimization problem<br>\n",
    "$(\\dot{\\boldsymbol{\\theta}}^{T}M_{1}^{T}-V_{1}^{T})(M_{1}\\dot{\\boldsymbol{\\theta}}-V_{1})=\\dot{\\boldsymbol{\\theta}}^{T}M_{1}^{T}M_{1}\\dot{\\boldsymbol{\\theta}}-\\dot{\\boldsymbol{\\theta}}^{T}M_{1}^{T}V_{1}-V^{T}_{1}M_{1}\\dot{\\boldsymbol{\\theta}}+V_{1}^{T}V_{1}\\propto \\frac{1}{2}\\dot{\\boldsymbol{\\theta}}^{T}M_{1}^{T}M_{1}\\dot{\\boldsymbol{\\theta}}-(M_{1}^{T}V_{1})^{T}\\dot{\\boldsymbol{\\theta}}$<br>\n",
    "$(\\dot{\\boldsymbol{\\theta}}^{T}M_{1}^{T}-V_{1}^{T})(M_{1}\\dot{\\boldsymbol{\\theta}}-V_{1})+(\\dot{\\boldsymbol{\\theta}}^{T}M_{2}^{T}-V_{2}^{T})(M_{2}\\dot{\\boldsymbol{\\theta}}-V_{2})\\propto\\frac{1}{2}\\dot{\\boldsymbol{\\theta}}^{T}(M_{1}^{T}M_{1}+M_{2}^{T}M_{2})\\dot{\\boldsymbol{\\theta}}-\\left[(M_{1}^{T}V_{1})^{T}+(M_{2}^{T}V_{2})^{T}\\right]\\dot{\\boldsymbol{\\theta}}$<br>\n",
    "Cost Function<br>\n",
    "$Cost=\\frac{1}{2}\\dot{\\boldsymbol{\\theta}}^{T}(M_{1}^{T}M_{1}+M_{2}^{T}M_{2})\\dot{\\boldsymbol{\\theta}}-\\left[(M_{1}^{T}V_{1})^{T}+(M_{2}^{T}V_{2})^{T}\\right]\\dot{\\boldsymbol{\\theta}}$\n",
    "<br>\n",
    "$P=(M_{1}^{T}M_{1}+M_{2}^{T}M_{2})+\\alpha$, $\\alpha= $Tikhonov Regularization<br>\n",
    "$q=M^{T}V$<br>\n",
    "$f=1/2x^TPx+q^{T}x$, $x=\\dot{\\theta}$"
   ]
  },
  {
   "cell_type": "code",
   "execution_count": 38,
   "metadata": {
    "code_folding": [
     0
    ]
   },
   "outputs": [],
   "source": [
    "def JointCost(M1, V1, M2, V2, alpha):\n",
    "    #f=1/2 {x^T} Px + q^{T}x\n",
    "    #Gx<=h\n",
    "    #Ax=b\n",
    "    P = M1.T@M1 + M2.T@M2 + alpha * np.eye(len(V1))\n",
    "    q = M1.T@V1 + M2.T@V2\n",
    "#     thetaDot = numpy.linalg.lstsq(M1, V1, rcond=None)[0]\n",
    "    thetaDot = solve_qp(P, -q)\n",
    "    return thetaDot\n",
    "\n",
    "error_list = []\n",
    "residual_list = []\n",
    "\n",
    "def McEvolveJointOptimization(vqs_params_init, T, dT, T0, state1,state2, way, alpha):\n",
    "    steps = int((T-T0)/dT) + 1\n",
    "    T_arr = numpy.linspace(T0, T, steps)\n",
    "    vqs_params = vqs_params_init\n",
    "    vqs_dot_hist = []\n",
    "    vqs_hist = [vqs_params]\n",
    "    FidelityArr = []\n",
    "    \n",
    "    for i in tqdm(range(len(T_arr))):\n",
    "        \n",
    "        # compute exact state\n",
    "        U_T = TimeEvolutionOperator(T_arr[i])\n",
    "        exact_evolved_state1 = U_T@state1\n",
    "        exact_evolved_state2 = U_T@state2\n",
    "\n",
    "        # compute simulated state\n",
    "        vqs_state1 = rotated_state(vqs_generators,vqs_hist[-1], state1)\n",
    "        vqs_state2 = rotated_state(vqs_generators,vqs_hist[-1], state2)\n",
    "\n",
    "        # compute fidelity\n",
    "        FidelityArr.append([np.abs(vqs_state1@numpy.conjugate(exact_evolved_state1))**2, np.abs(vqs_state2@numpy.conjugate(exact_evolved_state2))**2])\n",
    "        print(\"Fidelity\",FidelityArr[-1])    \n",
    "        \n",
    "        #constructing McLachlan\n",
    "        arr = [(j,k) for j in range(len(vqs_params)) for k in range(len(vqs_params)) if j <= k]\n",
    "        M1 = numpy.zeros((len(vqs_params),len(vqs_params)))\n",
    "        M2 = numpy.zeros((len(vqs_params),len(vqs_params)))\n",
    "\n",
    "        # Anirban's way\n",
    "        if way == 'Anirban':\n",
    "            M_elems1 = Parallel(n_jobs=-1,verbose=0)(delayed(M)(arr[i][0],arr[i][1],vqs_params,state1) for i in range(len(arr)))\n",
    "            M_elems2 = Parallel(n_jobs=-1,verbose=0)(delayed(M)(arr[i][0],arr[i][1],vqs_params,state2) for i in range(len(arr)))\n",
    "            V1 = numpy.array([V(p,vqs_params,state1) for p in range(len(vqs_params))])\n",
    "            V2 = numpy.array([V(p,vqs_params,state2) for p in range(len(vqs_params))])\n",
    "        \n",
    "        # Statevector way\n",
    "        if way == 'statevector':\n",
    "            M_elems1 = Parallel(n_jobs=-1)(delayed(calculate_m_statevector)(arr[i][0], arr[i][1], vqs_generators, vqs_params, 'state1') for i in range(len(arr)))       \n",
    "            M_elems2 = Parallel(n_jobs=-1)(delayed(calculate_m_statevector)(arr[i][0], arr[i][1], vqs_generators, vqs_params, 'state2') for i in range(len(arr)))       \n",
    "            V1 = Parallel(n_jobs=-1)(delayed(calculate_v_statevector)(p, vqs_generators, vqs_params, 'state1') for p in range(len(vqs_params)))\n",
    "            V2 = Parallel(n_jobs=-1)(delayed(calculate_v_statevector)(p, vqs_generators, vqs_params, 'state2') for p in range(len(vqs_params)))\n",
    "        \n",
    "        # Shots way\n",
    "        if way == 'shots':\n",
    "            shots = 2**17\n",
    "            M_elems1 = Parallel(n_jobs=-1)(delayed(calculate_m_shots)(arr[i][0], arr[i][1], vqs_generators, vqs_params, shots, 'state1') for i in range(len(arr)))       \n",
    "            M_elems2 = Parallel(n_jobs=-1)(delayed(calculate_m_shots)(arr[i][0], arr[i][1], vqs_generators, vqs_params, shots, 'state2') for i in range(len(arr)))       \n",
    "            V1 = Parallel(n_jobs=-1)(delayed(calculate_v_shots)(p, vqs_generators, vqs_params, shots, 'state1') for p in range(len(vqs_params)))\n",
    "            V2 = Parallel(n_jobs=-1)(delayed(calculate_v_shots)(p, vqs_generators, vqs_params, shots, 'state2') for p in range(len(vqs_params)))\n",
    "        \n",
    "        \n",
    "        for p in range(len(arr)):\n",
    "            M1[arr[p][0]][arr[p][1]] = M1[arr[p][1]][arr[p][0]] = M_elems1[p]\n",
    "            M2[arr[p][0]][arr[p][1]] = M2[arr[p][1]][arr[p][0]] = M_elems2[p]\n",
    "                \n",
    "        vqs_params_dot = JointCost(np.array(M1), np.array(V1), np.array(M2), np.array(V2), alpha)        \n",
    "        vqs_dot_hist.append(vqs_params_dot)\n",
    "        \n",
    "        #Euler\n",
    "#         vqs_params += vqs_dot_hist[-1]*dT\n",
    "        \n",
    "        #Complete Adams-Bashforth\n",
    "        if i == 0:\n",
    "            vqs_params = vqs_params + vqs_dot_hist[-1]*dT \n",
    "        else:\n",
    "            vqs_params = vqs_params + (3/2)*dT*vqs_dot_hist[-1]-(1/2)*dT*vqs_dot_hist[-2]\n",
    "        \n",
    "        vqs_hist.append(vqs_params)\n",
    "    \n",
    "    return vqs_hist,FidelityArr   "
   ]
  },
  {
   "cell_type": "code",
   "execution_count": 39,
   "metadata": {
    "scrolled": true
   },
   "outputs": [
    {
     "name": "stderr",
     "output_type": "stream",
     "text": [
      "\r",
      "  0%|                                                                                           | 0/51 [00:00<?, ?it/s]"
     ]
    },
    {
     "name": "stdout",
     "output_type": "stream",
     "text": [
      "Fidelity [1.0000000000000004, 1.0]\n"
     ]
    },
    {
     "name": "stderr",
     "output_type": "stream",
     "text": [
      "\r",
      "  2%|█▋                                                                                 | 1/51 [00:05<04:52,  5.86s/it]"
     ]
    },
    {
     "name": "stdout",
     "output_type": "stream",
     "text": [
      "Fidelity [0.9998562499998876, 0.9999998391927578]\n"
     ]
    },
    {
     "name": "stderr",
     "output_type": "stream",
     "text": [
      "\r",
      "  4%|███▎                                                                               | 2/51 [00:06<02:27,  3.02s/it]"
     ]
    },
    {
     "name": "stdout",
     "output_type": "stream",
     "text": [
      "Fidelity [0.9995145976044472, 0.9999996186585022]\n"
     ]
    },
    {
     "name": "stderr",
     "output_type": "stream",
     "text": [
      "\r",
      "  6%|████▉                                                                              | 3/51 [00:07<01:41,  2.11s/it]"
     ]
    },
    {
     "name": "stdout",
     "output_type": "stream",
     "text": [
      "Fidelity [0.9999534417674396, 0.999999954222688]\n"
     ]
    },
    {
     "name": "stderr",
     "output_type": "stream",
     "text": [
      "\r",
      "  8%|██████▌                                                                            | 4/51 [00:08<01:19,  1.69s/it]"
     ]
    },
    {
     "name": "stdout",
     "output_type": "stream",
     "text": [
      "Fidelity [0.9999787532571977, 0.9999999942059983]\n"
     ]
    },
    {
     "name": "stderr",
     "output_type": "stream",
     "text": [
      "\r",
      " 10%|████████▏                                                                          | 5/51 [00:09<01:06,  1.45s/it]"
     ]
    },
    {
     "name": "stdout",
     "output_type": "stream",
     "text": [
      "Fidelity [0.9999659887794409, 0.9999999879374812]\n"
     ]
    },
    {
     "name": "stderr",
     "output_type": "stream",
     "text": [
      "\r",
      " 12%|█████████▊                                                                         | 6/51 [00:11<00:59,  1.32s/it]"
     ]
    },
    {
     "name": "stdout",
     "output_type": "stream",
     "text": [
      "Fidelity [0.9999306032643055, 0.999999985295768]\n"
     ]
    },
    {
     "name": "stderr",
     "output_type": "stream",
     "text": [
      "\r",
      " 14%|███████████▍                                                                       | 7/51 [00:12<00:53,  1.22s/it]"
     ]
    },
    {
     "name": "stdout",
     "output_type": "stream",
     "text": [
      "Fidelity [0.9998803516284692, 0.9999999808727388]\n"
     ]
    },
    {
     "name": "stderr",
     "output_type": "stream",
     "text": [
      "\r",
      " 16%|█████████████                                                                      | 8/51 [00:13<00:50,  1.17s/it]"
     ]
    },
    {
     "name": "stdout",
     "output_type": "stream",
     "text": [
      "Fidelity [0.9998470687474822, 0.9999999727543636]\n"
     ]
    },
    {
     "name": "stderr",
     "output_type": "stream",
     "text": [
      "\r",
      " 18%|██████████████▋                                                                    | 9/51 [00:14<00:47,  1.12s/it]"
     ]
    },
    {
     "name": "stdout",
     "output_type": "stream",
     "text": [
      "Fidelity [0.9998570652412897, 0.9999999611033686]\n"
     ]
    },
    {
     "name": "stderr",
     "output_type": "stream",
     "text": [
      "\r",
      " 20%|████████████████                                                                  | 10/51 [00:15<00:44,  1.10s/it]"
     ]
    },
    {
     "name": "stdout",
     "output_type": "stream",
     "text": [
      "Fidelity [0.9998959513170884, 0.9999999509230685]\n"
     ]
    },
    {
     "name": "stderr",
     "output_type": "stream",
     "text": [
      "\r",
      " 22%|█████████████████▋                                                                | 11/51 [00:16<00:43,  1.08s/it]"
     ]
    },
    {
     "name": "stdout",
     "output_type": "stream",
     "text": [
      "Fidelity [0.9999365919121536, 0.9999999520457253]\n"
     ]
    },
    {
     "name": "stderr",
     "output_type": "stream",
     "text": [
      "\r",
      " 24%|███████████████████▎                                                              | 12/51 [00:17<00:41,  1.07s/it]"
     ]
    },
    {
     "name": "stdout",
     "output_type": "stream",
     "text": [
      "Fidelity [0.999966759541403, 0.9999999709788803]\n"
     ]
    },
    {
     "name": "stderr",
     "output_type": "stream",
     "text": [
      "\r",
      " 25%|████████████████████▉                                                             | 13/51 [00:18<00:40,  1.05s/it]"
     ]
    },
    {
     "name": "stdout",
     "output_type": "stream",
     "text": [
      "Fidelity [0.9999826856349859, 0.9999999821262858]\n"
     ]
    },
    {
     "name": "stderr",
     "output_type": "stream",
     "text": [
      "\r",
      " 27%|██████████████████████▌                                                           | 14/51 [00:19<00:38,  1.04s/it]"
     ]
    },
    {
     "name": "stdout",
     "output_type": "stream",
     "text": [
      "Fidelity [0.9999658967923902, 0.999999986684196]\n"
     ]
    },
    {
     "name": "stderr",
     "output_type": "stream",
     "text": [
      "\r",
      " 29%|████████████████████████                                                          | 15/51 [00:20<00:37,  1.04s/it]"
     ]
    },
    {
     "name": "stdout",
     "output_type": "stream",
     "text": [
      "Fidelity [0.9999323033113044, 0.9999997576227337]\n"
     ]
    },
    {
     "name": "stderr",
     "output_type": "stream",
     "text": [
      "\r",
      " 31%|█████████████████████████▋                                                        | 16/51 [00:21<00:36,  1.05s/it]"
     ]
    },
    {
     "name": "stdout",
     "output_type": "stream",
     "text": [
      "Fidelity [0.9999088070577101, 0.9999973871903775]\n"
     ]
    },
    {
     "name": "stderr",
     "output_type": "stream",
     "text": [
      "\r",
      " 33%|███████████████████████████▎                                                      | 17/51 [00:22<00:35,  1.06s/it]"
     ]
    },
    {
     "name": "stdout",
     "output_type": "stream",
     "text": [
      "Fidelity [0.9998351217026287, 0.9999964232280971]\n"
     ]
    },
    {
     "name": "stderr",
     "output_type": "stream",
     "text": [
      "\r",
      " 35%|████████████████████████████▉                                                     | 18/51 [00:23<00:34,  1.06s/it]"
     ]
    },
    {
     "name": "stdout",
     "output_type": "stream",
     "text": [
      "Fidelity [0.9997509881103693, 0.999997917037674]\n"
     ]
    },
    {
     "name": "stderr",
     "output_type": "stream",
     "text": [
      "\r",
      " 37%|██████████████████████████████▌                                                   | 19/51 [00:24<00:33,  1.05s/it]"
     ]
    },
    {
     "name": "stdout",
     "output_type": "stream",
     "text": [
      "Fidelity [0.9996708548816035, 0.9999990382718039]\n"
     ]
    },
    {
     "name": "stderr",
     "output_type": "stream",
     "text": [
      "\r",
      " 39%|████████████████████████████████▏                                                 | 20/51 [00:25<00:32,  1.06s/it]"
     ]
    },
    {
     "name": "stdout",
     "output_type": "stream",
     "text": [
      "Fidelity [0.9996248325140631, 0.9999995352217068]\n"
     ]
    },
    {
     "name": "stderr",
     "output_type": "stream",
     "text": [
      "\r",
      " 41%|█████████████████████████████████▊                                                | 21/51 [00:26<00:31,  1.05s/it]"
     ]
    },
    {
     "name": "stdout",
     "output_type": "stream",
     "text": [
      "Fidelity [0.999633725294622, 0.9999996791364743]\n"
     ]
    },
    {
     "name": "stderr",
     "output_type": "stream",
     "text": [
      "\r",
      " 43%|███████████████████████████████████▎                                              | 22/51 [00:27<00:30,  1.06s/it]"
     ]
    },
    {
     "name": "stdout",
     "output_type": "stream",
     "text": [
      "Fidelity [0.9996754220348536, 0.9999997004114647]\n"
     ]
    },
    {
     "name": "stderr",
     "output_type": "stream",
     "text": [
      "\r",
      " 45%|████████████████████████████████████▉                                             | 23/51 [00:28<00:29,  1.07s/it]"
     ]
    },
    {
     "name": "stdout",
     "output_type": "stream",
     "text": [
      "Fidelity [0.9997190113909497, 0.9999996857455107]\n"
     ]
    },
    {
     "name": "stderr",
     "output_type": "stream",
     "text": [
      "\r",
      " 47%|██████████████████████████████████████▌                                           | 24/51 [00:29<00:28,  1.06s/it]"
     ]
    },
    {
     "name": "stdout",
     "output_type": "stream",
     "text": [
      "Fidelity [0.9997650418385752, 0.9999996454324932]\n"
     ]
    },
    {
     "name": "stderr",
     "output_type": "stream",
     "text": [
      "\r",
      " 49%|████████████████████████████████████████▏                                         | 25/51 [00:30<00:27,  1.06s/it]"
     ]
    },
    {
     "name": "stdout",
     "output_type": "stream",
     "text": [
      "Fidelity [0.9998259727061967, 0.9999995486347225]\n"
     ]
    },
    {
     "name": "stderr",
     "output_type": "stream",
     "text": [
      "\r",
      " 51%|█████████████████████████████████████████▊                                        | 26/51 [00:32<00:26,  1.07s/it]"
     ]
    },
    {
     "name": "stdout",
     "output_type": "stream",
     "text": [
      "Fidelity [0.9998935417847603, 0.9999993403112433]\n"
     ]
    },
    {
     "name": "stderr",
     "output_type": "stream",
     "text": [
      "\r",
      " 53%|███████████████████████████████████████████▍                                      | 27/51 [00:33<00:25,  1.07s/it]"
     ]
    },
    {
     "name": "stdout",
     "output_type": "stream",
     "text": [
      "Fidelity [0.9999505242102845, 0.9999991261715221]\n"
     ]
    },
    {
     "name": "stderr",
     "output_type": "stream",
     "text": [
      "\r",
      " 55%|█████████████████████████████████████████████                                     | 28/51 [00:34<00:24,  1.07s/it]"
     ]
    },
    {
     "name": "stdout",
     "output_type": "stream",
     "text": [
      "Fidelity [0.9999725784466241, 0.9999992921441112]\n"
     ]
    },
    {
     "name": "stderr",
     "output_type": "stream",
     "text": [
      "\r",
      " 57%|██████████████████████████████████████████████▋                                   | 29/51 [00:35<00:24,  1.09s/it]"
     ]
    },
    {
     "name": "stdout",
     "output_type": "stream",
     "text": [
      "Fidelity [0.9999472640566136, 0.9999995856870295]\n"
     ]
    },
    {
     "name": "stderr",
     "output_type": "stream",
     "text": [
      "\r",
      " 59%|████████████████████████████████████████████████▏                                 | 30/51 [00:36<00:23,  1.12s/it]"
     ]
    },
    {
     "name": "stdout",
     "output_type": "stream",
     "text": [
      "Fidelity [0.999920217906997, 0.9999996772773486]\n"
     ]
    },
    {
     "name": "stderr",
     "output_type": "stream",
     "text": [
      "\r",
      " 61%|█████████████████████████████████████████████████▊                                | 31/51 [00:37<00:22,  1.13s/it]"
     ]
    },
    {
     "name": "stdout",
     "output_type": "stream",
     "text": [
      "Fidelity [0.9998865659413544, 0.9999996831125657]\n"
     ]
    },
    {
     "name": "stderr",
     "output_type": "stream",
     "text": [
      "\r",
      " 63%|███████████████████████████████████████████████████▍                              | 32/51 [00:38<00:21,  1.14s/it]"
     ]
    },
    {
     "name": "stdout",
     "output_type": "stream",
     "text": [
      "Fidelity [0.9998527620983133, 0.999999684853432]\n"
     ]
    },
    {
     "name": "stderr",
     "output_type": "stream",
     "text": [
      "\r",
      " 65%|█████████████████████████████████████████████████████                             | 33/51 [00:39<00:20,  1.14s/it]"
     ]
    },
    {
     "name": "stdout",
     "output_type": "stream",
     "text": [
      "Fidelity [0.9998272439543285, 0.9999997008086667]\n"
     ]
    },
    {
     "name": "stderr",
     "output_type": "stream",
     "text": [
      "\r",
      " 67%|██████████████████████████████████████████████████████▋                           | 34/51 [00:41<00:19,  1.15s/it]"
     ]
    },
    {
     "name": "stdout",
     "output_type": "stream",
     "text": [
      "Fidelity [0.9998041408609646, 0.9999997202723601]\n"
     ]
    },
    {
     "name": "stderr",
     "output_type": "stream",
     "text": [
      "\r",
      " 69%|████████████████████████████████████████████████████████▎                         | 35/51 [00:42<00:18,  1.17s/it]"
     ]
    },
    {
     "name": "stdout",
     "output_type": "stream",
     "text": [
      "Fidelity [0.9997853273421623, 0.9999997325378561]\n"
     ]
    },
    {
     "name": "stderr",
     "output_type": "stream",
     "text": [
      "\r",
      " 71%|█████████████████████████████████████████████████████████▉                        | 36/51 [00:43<00:17,  1.18s/it]"
     ]
    },
    {
     "name": "stdout",
     "output_type": "stream",
     "text": [
      "Fidelity [0.999791523898077, 0.9999997350260079]\n"
     ]
    },
    {
     "name": "stderr",
     "output_type": "stream",
     "text": [
      "\r",
      " 73%|███████████████████████████████████████████████████████████▍                      | 37/51 [00:44<00:16,  1.18s/it]"
     ]
    },
    {
     "name": "stdout",
     "output_type": "stream",
     "text": [
      "Fidelity [0.9998451700225522, 0.9999997281817634]\n"
     ]
    },
    {
     "name": "stderr",
     "output_type": "stream",
     "text": [
      "\r",
      " 75%|█████████████████████████████████████████████████████████████                     | 38/51 [00:45<00:15,  1.19s/it]"
     ]
    },
    {
     "name": "stdout",
     "output_type": "stream",
     "text": [
      "Fidelity [0.9999265039317115, 0.9999997118326617]\n"
     ]
    },
    {
     "name": "stderr",
     "output_type": "stream",
     "text": [
      "\r",
      " 76%|██████████████████████████████████████████████████████████████▋                   | 39/51 [00:47<00:14,  1.19s/it]"
     ]
    },
    {
     "name": "stdout",
     "output_type": "stream",
     "text": [
      "Fidelity [0.9999855289019813, 0.999999691975086]\n"
     ]
    },
    {
     "name": "stderr",
     "output_type": "stream",
     "text": [
      "\r",
      " 78%|████████████████████████████████████████████████████████████████▎                 | 40/51 [00:48<00:13,  1.19s/it]"
     ]
    },
    {
     "name": "stdout",
     "output_type": "stream",
     "text": [
      "Fidelity [0.999996921784338, 0.9999996807947477]\n"
     ]
    },
    {
     "name": "stderr",
     "output_type": "stream",
     "text": [
      "\r",
      " 80%|█████████████████████████████████████████████████████████████████▉                | 41/51 [00:49<00:11,  1.19s/it]"
     ]
    },
    {
     "name": "stdout",
     "output_type": "stream",
     "text": [
      "Fidelity [0.9999617524562963, 0.9999996843045293]\n"
     ]
    },
    {
     "name": "stderr",
     "output_type": "stream",
     "text": [
      "\r",
      " 82%|███████████████████████████████████████████████████████████████████▌              | 42/51 [00:50<00:10,  1.21s/it]"
     ]
    },
    {
     "name": "stdout",
     "output_type": "stream",
     "text": [
      "Fidelity [0.9998890298232628, 0.9999996953307947]\n"
     ]
    },
    {
     "name": "stderr",
     "output_type": "stream",
     "text": [
      "\r",
      " 84%|█████████████████████████████████████████████████████████████████████▏            | 43/51 [00:52<00:09,  1.21s/it]"
     ]
    },
    {
     "name": "stdout",
     "output_type": "stream",
     "text": [
      "Fidelity [0.9997888049416112, 0.9999997020444218]\n"
     ]
    },
    {
     "name": "stderr",
     "output_type": "stream",
     "text": [
      "\r",
      " 86%|██████████████████████████████████████████████████████████████████████▋           | 44/51 [00:53<00:08,  1.22s/it]"
     ]
    },
    {
     "name": "stdout",
     "output_type": "stream",
     "text": [
      "Fidelity [0.9996771845843587, 0.999999706188951]\n"
     ]
    },
    {
     "name": "stderr",
     "output_type": "stream",
     "text": [
      "\r",
      " 88%|████████████████████████████████████████████████████████████████████████▎         | 45/51 [00:54<00:07,  1.23s/it]"
     ]
    },
    {
     "name": "stdout",
     "output_type": "stream",
     "text": [
      "Fidelity [0.9995754582061647, 0.9999997063341477]\n"
     ]
    },
    {
     "name": "stderr",
     "output_type": "stream",
     "text": [
      "\r",
      " 90%|█████████████████████████████████████████████████████████████████████████▉        | 46/51 [00:55<00:06,  1.22s/it]"
     ]
    },
    {
     "name": "stdout",
     "output_type": "stream",
     "text": [
      "Fidelity [0.9995822738940741, 0.9999993320380661]\n"
     ]
    },
    {
     "name": "stderr",
     "output_type": "stream",
     "text": [
      "\r",
      " 92%|███████████████████████████████████████████████████████████████████████████▌      | 47/51 [00:56<00:04,  1.22s/it]"
     ]
    },
    {
     "name": "stdout",
     "output_type": "stream",
     "text": [
      "Fidelity [0.9998599913889896, 0.9999972756764045]\n"
     ]
    },
    {
     "name": "stderr",
     "output_type": "stream",
     "text": [
      "\r",
      " 94%|█████████████████████████████████████████████████████████████████████████████▏    | 48/51 [00:58<00:03,  1.22s/it]"
     ]
    },
    {
     "name": "stdout",
     "output_type": "stream",
     "text": [
      "Fidelity [0.9999950347803578, 0.9999975183418075]\n"
     ]
    },
    {
     "name": "stderr",
     "output_type": "stream",
     "text": [
      "\r",
      " 96%|██████████████████████████████████████████████████████████████████████████████▊   | 49/51 [00:59<00:02,  1.22s/it]"
     ]
    },
    {
     "name": "stdout",
     "output_type": "stream",
     "text": [
      "Fidelity [0.9999913848878514, 0.9999984928934741]\n"
     ]
    },
    {
     "name": "stderr",
     "output_type": "stream",
     "text": [
      "\r",
      " 98%|████████████████████████████████████████████████████████████████████████████████▍ | 50/51 [01:00<00:01,  1.21s/it]"
     ]
    },
    {
     "name": "stdout",
     "output_type": "stream",
     "text": [
      "Fidelity [0.9999520108959985, 0.9999989867179135]\n"
     ]
    },
    {
     "name": "stderr",
     "output_type": "stream",
     "text": [
      "100%|██████████████████████████████████████████████████████████████████████████████████| 51/51 [01:01<00:00,  1.21s/it]\n"
     ]
    }
   ],
   "source": [
    "fidelities = []\n",
    "\n",
    "alpha = 0.001\n",
    "depth = 2\n",
    "vqs_generators=['ZIZI','IZIZ','IIXX','IIYY','XXII','YYII','IIII'] * depth\n",
    "vqs_params=numpy.zeros(len(vqs_generators))\n",
    "T = 5\n",
    "dT = 0.1\n",
    "outside_vqs_hist, fidelity_list = McEvolveJointOptimization(vqs_params, T, dT, 0, adapt_state, exc_state, 'statevector', alpha)\n",
    "fidelities.append(fidelity_list)"
   ]
  },
  {
   "cell_type": "code",
   "execution_count": null,
   "metadata": {},
   "outputs": [],
   "source": [
    "colors = plt.cm.cividis(np.linspace(0, 1, len(fidelities)))\n",
    "colors = np.flip(colors, axis=0)\n",
    "fig, ax = plt.subplots(dpi=160)\n",
    "ax.set_xlabel('Time')\n",
    "ax.set_ylabel('Fidelity')\n",
    "ax.set_title(\"t=50, dt=0.1, depth = 2, averaged fidelity\")\n",
    "\n",
    "for i in range(len(fidelities)):\n",
    "    ax.plot(list(range(0,int(T/dT))), np.mean(fidelities[i], axis=1), label = 'alpha = ' + str(10**-i), color = colors[i])\n",
    "plt.legend()\n",
    "plt.show()"
   ]
  }
 ],
 "metadata": {
  "kernelspec": {
   "display_name": "Python 3",
   "language": "python",
   "name": "python3"
  },
  "language_info": {
   "codemirror_mode": {
    "name": "ipython",
    "version": 3
   },
   "file_extension": ".py",
   "mimetype": "text/x-python",
   "name": "python",
   "nbconvert_exporter": "python",
   "pygments_lexer": "ipython3",
   "version": "3.9.4"
  },
  "varInspector": {
   "cols": {
    "lenName": 16,
    "lenType": 16,
    "lenVar": 40
   },
   "kernels_config": {
    "python": {
     "delete_cmd_postfix": "",
     "delete_cmd_prefix": "del ",
     "library": "var_list.py",
     "varRefreshCmd": "print(var_dic_list())"
    },
    "r": {
     "delete_cmd_postfix": ") ",
     "delete_cmd_prefix": "rm(",
     "library": "var_list.r",
     "varRefreshCmd": "cat(var_dic_list()) "
    }
   },
   "types_to_exclude": [
    "module",
    "function",
    "builtin_function_or_method",
    "instance",
    "_Feature"
   ],
   "window_display": false
  }
 },
 "nbformat": 4,
 "nbformat_minor": 4
}
